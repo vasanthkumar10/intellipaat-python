{
 "cells": [
  {
   "cell_type": "code",
   "execution_count": 27,
   "id": "22bd76c8",
   "metadata": {},
   "outputs": [
    {
     "name": "stdout",
     "output_type": "stream",
     "text": [
      "vaishnavi\n",
      "username changed successfully- Vasanth\n",
      "Vasanth\n"
     ]
    }
   ],
   "source": [
    "# Encapsulation --> public, private(can't be accessible outside class)\n",
    "class ATM:\n",
    "    __original_username = 'vaishnavi' # to change a property to private, add 2 _\n",
    "    __original_pin_number = '1234'\n",
    "    \n",
    "    def __init__(self, username, pin_number):\n",
    "        self.username = username\n",
    "        self.pin_number = pin_number\n",
    "        \n",
    "    # getters\n",
    "    def get_original_username(self):\n",
    "        if(self.validate()):\n",
    "            return self.__original_username\n",
    "        return 'Unauthorized'\n",
    "    \n",
    "    def get_original_pin_number(self):\n",
    "        if(self.validate()):\n",
    "            return self.__original_pin_number\n",
    "        return 'Unauthorized'\n",
    "    \n",
    "    # setters\n",
    "    def set_original_username(self, new_username):\n",
    "        if(self.validate()):\n",
    "            self.__original_username = new_username\n",
    "            return f'username changed successfully- {self.__original_username}'\n",
    "        return 'Unauthorized'\n",
    "    \n",
    "    def validate(self):\n",
    "        if(self.username == ATM.__original_username and self.pin_number == ATM.__original_pin_number):\n",
    "            return True\n",
    "        return False\n",
    "        \n",
    "Meena = ATM('meena', '6789')\n",
    "# print(ATM.__original_username, ATM.__original_pin_number)\n",
    "Vaishnavi = ATM('vaishnavi', '1234')\n",
    "# print(Vaishnavi.__original_username, Vaishnavi.__original_pin_number)\n",
    "\n",
    "print(Vaishnavi.get_original_username())\n",
    "# print(Meena.get_original_username())\n",
    "\n",
    "# print(Vaishnavi.get_original_pin_number())\n",
    "# print(Meena.get_original_pin_number())\n",
    "\n",
    "# print(Meena.set_original_username('meena'))\n",
    "print(Vaishnavi.set_original_username('Vasanth'))\n",
    "\n",
    "print(Vaishnavi.get_original_username())"
   ]
  },
  {
   "cell_type": "code",
   "execution_count": 32,
   "id": "82d3bdaf",
   "metadata": {},
   "outputs": [
    {
     "name": "stdout",
     "output_type": "stream",
     "text": [
      "{'name': 'Iphone 14', 'price': 70000, 'quantity': 1, 'is_case_available': False}\n",
      "{'name': 'Pixel 6', 'price': 40000, 'quantity': 1, 'is_case_available': True}\n",
      "{'name': 'tomato', 'price': 30, 'quantity': 2, 'is_case_available': False}\n"
     ]
    }
   ],
   "source": [
    "# Inheritance\n",
    "class Item:\n",
    "    # class property - constant for all objects\n",
    "    discount = 0.2 # 20% discount\n",
    "    \n",
    "    def __init__(self, name, price = 0, quantity = 1, is_case_available = False):\n",
    "        \n",
    "        assert price >= 0, f'Invalid price -> {price}. It should be greater than or equal to zero'\n",
    "        assert quantity > 0, f'Invalid quantity -> {quantity}. It should be greater than zero'\n",
    "        # object / self properties\n",
    "        self.name = name\n",
    "        self.price = price\n",
    "        self.quantity = quantity\n",
    "        self.is_case_available = is_case_available\n",
    "        \n",
    "    def calculate_total_price(self):\n",
    "        return self.price * self.quantity\n",
    "    \n",
    "    def apply_discount(self):\n",
    "        self.price = self.price - (self.price * self.discount) # by default it will take class property\n",
    "\n",
    "Phone = Item('Iphone 14', 70000, 1)\n",
    "print(Phone.__dict__)\n",
    "\n",
    "Google_pixel = Item('Pixel 6', 40000, 1, True)\n",
    "print(Google_pixel.__dict__)\n",
    "\n",
    "tomato = Item(\"tomato\", 30, 2)\n",
    "print(tomato.__dict__)"
   ]
  },
  {
   "cell_type": "code",
   "execution_count": 43,
   "id": "433f46be",
   "metadata": {},
   "outputs": [
    {
     "name": "stdout",
     "output_type": "stream",
     "text": [
      "{'name': 'Iphone 14', 'price': 60000, 'quantity': 2, 'is_case_available': False}\n"
     ]
    }
   ],
   "source": [
    "# Inheritance\n",
    "class Item:\n",
    "    # class property - constant for all objects\n",
    "    discount = 0.2 # 20% discount\n",
    "    \n",
    "    def __init__(self, name, price = 0, quantity = 1):\n",
    "#         print('item init ----')\n",
    "        \n",
    "        assert price >= 0, f'Invalid price -> {price}. It should be greater than or equal to zero'\n",
    "        assert quantity > 0, f'Invalid quantity -> {quantity}. It should be greater than zero'\n",
    "        # object / self properties\n",
    "        self.name = name\n",
    "        self.price = price\n",
    "        self.quantity = quantity\n",
    "        \n",
    "    def calculate_total_price(self):\n",
    "        return self.price * self.quantity\n",
    "    \n",
    "    def apply_discount(self):\n",
    "        self.price = self.price - (self.price * self.discount) # by default it will take class property\n",
    "        \n",
    "# inherit Item to Phone\n",
    "class Phone(Item):\n",
    "    \n",
    "    def __init__(self, name, price = 0, quantity = 1, is_case_available = False):\n",
    "#         print('phone init ----')\n",
    "        # super - parent --> Item\n",
    "        super().__init__(name, price, quantity)\n",
    "        self.is_case_available = is_case_available\n",
    "        \n",
    "iphone = Phone('Iphone 14', 60000, 2)\n",
    "print(iphone.__dict__)\n",
    "print(iphone.calculate_total_price())"
   ]
  },
  {
   "cell_type": "code",
   "execution_count": 65,
   "id": "fef33aea",
   "metadata": {},
   "outputs": [],
   "source": [
    "# types of inheritance -> single, multilevel, multiple, heirarchical \n",
    "\n",
    "# single level inheritance\n",
    "class Parent:\n",
    "    def __init__(self):\n",
    "        self.name = 'Parent'\n",
    "        \n",
    "    def display_name(self):\n",
    "        print(self.name)\n",
    "\n",
    "class Child(Parent):\n",
    "    def __init__(self):\n",
    "        super().__init__()\n",
    "        self.name = 'child'\n",
    "        \n",
    "        \n",
    "father = Parent()\n",
    "# father.display_name()\n",
    "\n",
    "ankur = Child()\n",
    "# ankur.display_name()"
   ]
  },
  {
   "cell_type": "code",
   "execution_count": 78,
   "id": "0cdf54e5",
   "metadata": {},
   "outputs": [
    {
     "name": "stdout",
     "output_type": "stream",
     "text": [
      "Own house\n",
      "Maruti\n",
      "Yamaha\n"
     ]
    }
   ],
   "source": [
    "# multi level inheritance\n",
    "class GrandParent:\n",
    "    def __init__(self):\n",
    "        self.house = 'Own house'\n",
    "        \n",
    "class Parent(GrandParent):\n",
    "    def __init__(self):\n",
    "        super().__init__()\n",
    "        self.car = 'Maruti'\n",
    "        \n",
    "class Child(Parent):\n",
    "    def __init__(self):\n",
    "        super().__init__()\n",
    "        self.bike = 'Yamaha'\n",
    "        \n",
    "gp = GrandParent()\n",
    "parent = Parent()\n",
    "child = Child()\n",
    "# print(gp.house)\n",
    "# print(parent.house)\n",
    "\n",
    "print(child.house)\n",
    "print(child.car)\n",
    "print(child.bike)"
   ]
  },
  {
   "cell_type": "code",
   "execution_count": 99,
   "id": "f6cf2651",
   "metadata": {},
   "outputs": [
    {
     "name": "stdout",
     "output_type": "stream",
     "text": [
      "playing with mother\n"
     ]
    }
   ],
   "source": [
    "# multiple inheritance\n",
    "class Father:\n",
    "    def __init__(self):\n",
    "        self.name = 'Father'\n",
    "        \n",
    "    def play(self):\n",
    "        print('Playing with father')\n",
    "        \n",
    "class Mother:\n",
    "    def __init__(self):\n",
    "        self.name = 'Mother'\n",
    "        self.love = \"mother's love\"\n",
    "        \n",
    "    def play(self):\n",
    "        print('playing with mother')\n",
    "        \n",
    "class Child(Mother, Father):\n",
    "    def __init__(self):\n",
    "#         super().__init__()\n",
    "        Father.__init__(self)\n",
    "        Mother.__init__(self)\n",
    "        \n",
    "    def display(self):\n",
    "        print(self.name, self.love)\n",
    "        \n",
    "child = Child()\n",
    "# child.display()\n",
    "child.play()"
   ]
  },
  {
   "cell_type": "code",
   "execution_count": 106,
   "id": "5b14cd8c",
   "metadata": {},
   "outputs": [
    {
     "name": "stdout",
     "output_type": "stream",
     "text": [
      "UK\n",
      "Parent\n",
      "India\n",
      "Parent\n"
     ]
    }
   ],
   "source": [
    "# heirarchical inheritance\n",
    "class Parent:\n",
    "    def __init__(self):\n",
    "        self.name = 'Parent'\n",
    "        \n",
    "    def display_parent_name(self):\n",
    "        print(self.name)\n",
    "    \n",
    "class Child1(Parent):\n",
    "    def __init__(self):\n",
    "        super().__init__()\n",
    "        self.country = 'UK'\n",
    "        \n",
    "class Child2(Parent):\n",
    "    def __init__(self):\n",
    "        super().__init__()\n",
    "        self.country = 'India'\n",
    "\n",
    "parent = Parent()\n",
    "# print(parent.name)\n",
    "\n",
    "child1 = Child1()\n",
    "print(child1.country)\n",
    "child1.display_parent_name()\n",
    "\n",
    "\n",
    "child2 = Child2()\n",
    "print(child2.country)\n",
    "child2.display_parent_name()"
   ]
  },
  {
   "cell_type": "code",
   "execution_count": 115,
   "id": "3a8f11ad",
   "metadata": {},
   "outputs": [
    {
     "name": "stdout",
     "output_type": "stream",
     "text": [
      "child playing\n"
     ]
    }
   ],
   "source": [
    "# Polymorphism\n",
    "class Parent:\n",
    "    def play(self):\n",
    "        print('parent playing')\n",
    "        \n",
    "class Child(Parent):\n",
    "    # method overriding\n",
    "    def play(self):\n",
    "        print('child playing')\n",
    "        \n",
    "child = Child()\n",
    "child.play()\n",
    "\n",
    "# method overloading is not supported in python"
   ]
  },
  {
   "cell_type": "code",
   "execution_count": 149,
   "id": "8ea72231",
   "metadata": {},
   "outputs": [
    {
     "ename": "TypeError",
     "evalue": "Can't instantiate abstract class Laptop with abstract method process",
     "output_type": "error",
     "traceback": [
      "\u001b[1;31m---------------------------------------------------------------------------\u001b[0m",
      "\u001b[1;31mTypeError\u001b[0m                                 Traceback (most recent call last)",
      "Input \u001b[1;32mIn [149]\u001b[0m, in \u001b[0;36m<cell line: 32>\u001b[1;34m()\u001b[0m\n\u001b[0;32m     29\u001b[0m         \u001b[38;5;28mprint\u001b[39m(\u001b[38;5;124m'\u001b[39m\u001b[38;5;124mcreating application...\u001b[39m\u001b[38;5;124m'\u001b[39m)\n\u001b[0;32m     30\u001b[0m         device\u001b[38;5;241m.\u001b[39mprocess()\n\u001b[1;32m---> 32\u001b[0m macbook \u001b[38;5;241m=\u001b[39m \u001b[43mLaptop\u001b[49m\u001b[43m(\u001b[49m\u001b[43m)\u001b[49m\n\u001b[0;32m     33\u001b[0m \u001b[38;5;66;03m# macbook.play_games()\u001b[39;00m\n\u001b[0;32m     34\u001b[0m iphone \u001b[38;5;241m=\u001b[39m Mobile()\n",
      "\u001b[1;31mTypeError\u001b[0m: Can't instantiate abstract class Laptop with abstract method process"
     ]
    }
   ],
   "source": [
    "# Abstraction - not present in python by default\n",
    "# Abstract Base Class(ABC) - cannot be instantiated(creating object)\n",
    "# for a class to become Abstract class, it should have atleast 1 abstract method\n",
    "\n",
    "from abc import ABC, abstractmethod\n",
    "\n",
    "class Computer(ABC):\n",
    "    \n",
    "    @abstractmethod # decorator\n",
    "    def process(self):\n",
    "        pass\n",
    "\n",
    "class Laptop(Computer):\n",
    "    def play_games(self):\n",
    "        print('playing games')\n",
    "        \n",
    "    def process(self):\n",
    "        print('some process is running on laptop')\n",
    "        \n",
    "class Mobile:\n",
    "    def play_games(self):\n",
    "        print('playing games')\n",
    "        \n",
    "#     def process(self):\n",
    "#         print('some process is running on mobile')\n",
    "        \n",
    "class Programmer:\n",
    "    def work(self, device):\n",
    "        print('creating application...')\n",
    "        device.process()\n",
    "        \n",
    "macbook = Laptop()\n",
    "# macbook.play_games()\n",
    "iphone = Mobile()\n",
    "\n",
    "iphone.play_games()\n",
    "\n",
    "vasi = Programmer()\n",
    "vasi.work(macbook)\n",
    "# vasi.work(iphone)"
   ]
  },
  {
   "cell_type": "code",
   "execution_count": 153,
   "id": "e22c372e",
   "metadata": {},
   "outputs": [
    {
     "name": "stdout",
     "output_type": "stream",
     "text": [
      "120\n",
      "1\n",
      "1\n",
      "Invalid\n"
     ]
    }
   ],
   "source": [
    "# hands on - 2\n",
    "\n",
    "# 1. Create a function named ‘factor’ that can only accept 1 argument. The function should\n",
    "# return the factorial of that number.\n",
    "\n",
    "def factor(num):\n",
    "    fact = 1\n",
    "    if (num < 0): return 'Invalid'\n",
    "    elif (num < 2): return 1\n",
    "    else:\n",
    "        for i in range(1, num+1):\n",
    "            fact = fact * i\n",
    "            \n",
    "        return fact\n",
    "    \n",
    "print(factor(5))\n",
    "print(factor(1))\n",
    "print(factor(0))\n",
    "print(factor(-5))"
   ]
  },
  {
   "cell_type": "code",
   "execution_count": 160,
   "id": "f28ed4da",
   "metadata": {},
   "outputs": [
    {
     "name": "stdout",
     "output_type": "stream",
     "text": [
      "v\n",
      "a\n",
      "s\n",
      "i\n"
     ]
    },
    {
     "ename": "StopIteration",
     "evalue": "",
     "output_type": "error",
     "traceback": [
      "\u001b[1;31m---------------------------------------------------------------------------\u001b[0m",
      "\u001b[1;31mStopIteration\u001b[0m                             Traceback (most recent call last)",
      "Input \u001b[1;32mIn [160]\u001b[0m, in \u001b[0;36m<cell line: 11>\u001b[1;34m()\u001b[0m\n\u001b[0;32m      9\u001b[0m \u001b[38;5;28mprint\u001b[39m(\u001b[38;5;28mnext\u001b[39m(iterable))\n\u001b[0;32m     10\u001b[0m \u001b[38;5;28mprint\u001b[39m(\u001b[38;5;28mnext\u001b[39m(iterable))\n\u001b[1;32m---> 11\u001b[0m \u001b[38;5;28mprint\u001b[39m(\u001b[38;5;28;43mnext\u001b[39;49m\u001b[43m(\u001b[49m\u001b[43miterable\u001b[49m\u001b[43m)\u001b[49m)\n",
      "\u001b[1;31mStopIteration\u001b[0m: "
     ]
    }
   ],
   "source": [
    "name = 'vasi'\n",
    "# for char in name:\n",
    "#     print(char)\n",
    "    \n",
    "# iter\n",
    "iterable = iter(name)\n",
    "print(next(iterable))\n",
    "print(next(iterable))\n",
    "print(next(iterable))\n",
    "print(next(iterable))\n",
    "print(next(iterable))"
   ]
  },
  {
   "cell_type": "code",
   "execution_count": 168,
   "id": "0154c2eb",
   "metadata": {},
   "outputs": [
    {
     "name": "stdout",
     "output_type": "stream",
     "text": [
      "Enter the word to be checked: VASI\n",
      "word contains letter S\n"
     ]
    }
   ],
   "source": [
    "# 2. Create a function named ‘check_string’, the function should accept a string data from the\n",
    "# user and the function should check if the user input contains the letter ‘s’ in it. If it contains\n",
    "# the letter ‘s’ then print- ‘The string is containing the letter ‘s’’, if not then print- ‘The string\n",
    "# doesn’t contain the letter ‘s’’.\n",
    "\n",
    "def check_string():\n",
    "    word = input('Enter the word to be checked: ')\n",
    "    word = word.lower()\n",
    "    is_present = False # default\n",
    "    for char in word:\n",
    "        if (char == 's'):\n",
    "            is_present = True\n",
    "            break\n",
    "            \n",
    "    if(is_present == True):\n",
    "        print('word contains letter S')\n",
    "    else:\n",
    "        print('word does not contains letter S')\n",
    "        \n",
    "check_string()"
   ]
  },
  {
   "cell_type": "code",
   "execution_count": 171,
   "id": "0071c556",
   "metadata": {},
   "outputs": [
    {
     "name": "stdout",
     "output_type": "stream",
     "text": [
      "Enter the input: piyush\n",
      "printing message piyush\n"
     ]
    }
   ],
   "source": [
    "# 3. Create a class named ‘student’ and inside the class, create a function named ‘fun1’- this\n",
    "# method should accept the user defined input and return that value.\n",
    "# a. Create another method named- message() and that method should print the user\n",
    "# defined input that we have defined in ‘fun1’.\n",
    "\n",
    "class Student:\n",
    "    def __init__(self):\n",
    "        self.word = None\n",
    "    \n",
    "    def fun1(self):\n",
    "        word = input('Enter the input: ')\n",
    "        self.word = word\n",
    "        return self.word\n",
    "    \n",
    "    def message(self):\n",
    "        print('printing message', self.word)\n",
    "    \n",
    "manorath = Student()\n",
    "manorath.fun1()\n",
    "manorath.message()"
   ]
  },
  {
   "cell_type": "code",
   "execution_count": 173,
   "id": "aa263855",
   "metadata": {},
   "outputs": [
    {
     "name": "stdout",
     "output_type": "stream",
     "text": [
      "10\n",
      "30\n"
     ]
    }
   ],
   "source": [
    "# 4. Create a lambda function that should double or multiply the number (that we will be passing\n",
    "# in the lambda function) by 2. Store the lambda function in a variable named ‘double_num’.\n",
    "\n",
    "double_num = lambda num: num * 2\n",
    "print(double_num(5))\n",
    "print(double_num(15))"
   ]
  },
  {
   "cell_type": "code",
   "execution_count": 175,
   "id": "816f7f19",
   "metadata": {},
   "outputs": [
    {
     "name": "stdout",
     "output_type": "stream",
     "text": [
      "Enter the string: vasanth\n",
      "Not a palindrome\n"
     ]
    }
   ],
   "source": [
    "# 5. Take the user input string and check whether that string is palindrome or not.\n",
    "# MAM, MADAM, RACECAR\n",
    "\n",
    "# forward string == reverse string\n",
    "word = input('Enter the string: ')\n",
    "if (word == word[::-1]):\n",
    "    print('It is palindrome')\n",
    "else:\n",
    "    print('Not a palindrome')"
   ]
  },
  {
   "cell_type": "code",
   "execution_count": 176,
   "id": "431d6a36",
   "metadata": {},
   "outputs": [
    {
     "name": "stdout",
     "output_type": "stream",
     "text": [
      "This is function 1 in the Super class.\n"
     ]
    }
   ],
   "source": [
    "# 6. Create a class named ‘Super’ and inside that class define a user-defined function named\n",
    "# fun1.\n",
    "# a. Inside the ‘fun1’ function, pass the message “This is function 1 in the Super class.”\n",
    "# in the print statement.\n",
    "\n",
    "class Super:\n",
    "    def fun1(self):\n",
    "        print('This is function 1 in the Super class.')\n",
    "        \n",
    "s = Super()\n",
    "s.fun1()"
   ]
  },
  {
   "cell_type": "code",
   "execution_count": 180,
   "id": "d6c2a358",
   "metadata": {},
   "outputs": [
    {
     "name": "stdout",
     "output_type": "stream",
     "text": [
      "This is function 1 in the modified super class.\n",
      "This is function 2 in the modified super class.\n"
     ]
    }
   ],
   "source": [
    "# 7. Create another class named ‘Modified_Super’ and inherit this class from the Super class.\n",
    "# a. Inside the Modified_Super class, create a function named ‘fun1’ and pass the\n",
    "# following message inside the print statement: ‘This is function 1 in the Modified\n",
    "# Super class.’\n",
    "# b. Create another user-defined function named ‘fun2’ and pass the message: ‘This is\n",
    "# the 2nd function from the Modified Super class’ in the print statement.\n",
    "# c. After that, now create an object for the Modified_Super class and call the fun1().\n",
    "\n",
    "class Super:\n",
    "    def fun1(self):\n",
    "        print('This is function 1 in the Super class.')\n",
    "\n",
    "class ModifiedSuperClass(Super):\n",
    "    def fun1(self):\n",
    "        print('This is function 1 in the modified super class.')\n",
    "        \n",
    "    def fun2(self):\n",
    "        print('This is function 2 in the modified super class.')\n",
    "        \n",
    "msc = ModifiedSuperClass()\n",
    "msc.fun1()\n",
    "msc.fun2()"
   ]
  },
  {
   "cell_type": "code",
   "execution_count": 184,
   "id": "cb208ae6",
   "metadata": {},
   "outputs": [
    {
     "name": "stdout",
     "output_type": "stream",
     "text": [
      "This function only has 1 argument\n"
     ]
    }
   ],
   "source": [
    "# 8. Create 2 methods named ‘Hello’. In the 1st Hello method, pass only one argument and pass\n",
    "# this message: ‘This function only has 1 argument’. And in the 2nd Hello method, pass\n",
    "# two arguments and pass this message: ‘This function has 2 arguments’.\n",
    "# a. Try to call both the methods and analyze the output of both the methods.\n",
    "\n",
    "# eg: method overloading\n",
    "class Hello:\n",
    "        \n",
    "    def hello(self, one, two):\n",
    "        print('This function only has 2 arguments')\n",
    "        \n",
    "    def hello(self, one):\n",
    "        print('This function only has 1 argument')\n",
    "        \n",
    "h = Hello()\n",
    "# h.hello('vasi', 'kumar')\n",
    "h.hello('vasi')\n",
    "# order of execution matters"
   ]
  },
  {
   "cell_type": "code",
   "execution_count": 186,
   "id": "90d4da12",
   "metadata": {},
   "outputs": [
    {
     "name": "stdout",
     "output_type": "stream",
     "text": [
      "enter the no of inputs: 5\n",
      "enter the no to get added: 1\n",
      "enter the no to get added: 2\n",
      "enter the no to get added: 3\n",
      "enter the no to get added:  4\n",
      "enter the no to get added: 5\n",
      "15\n"
     ]
    }
   ],
   "source": [
    "# 9. Create a method named ‘Sum’ that can accept multiple user inputs. Now add those user-\n",
    "# defined input values using for loop and the function should return the addition of the numbers.\n",
    "\n",
    "class Sum:\n",
    "    def get_sum(self):\n",
    "        total = 0\n",
    "        no_of_inputs = int(input(\"enter the no of inputs: \"))\n",
    "        for i in range(no_of_inputs):\n",
    "            user_input = int(input(\"enter the no to get added: \"))\n",
    "            total = total + user_input\n",
    "        print(total)\n",
    "        \n",
    "s = Sum()\n",
    "s.get_sum()"
   ]
  },
  {
   "cell_type": "code",
   "execution_count": 188,
   "id": "f3b68a82",
   "metadata": {},
   "outputs": [
    {
     "name": "stdout",
     "output_type": "stream",
     "text": [
      "10\n",
      "20\n"
     ]
    }
   ],
   "source": [
    "# 10. Create a class named ‘Encapsulation’:\n",
    "# a. Inside the class, first create a constructor. Inside the constructor, initialize\n",
    "# originalValue variable as 10.\n",
    "# b. After creating the constructor, define a function named ‘Value’ and this function\n",
    "# should return the variable that we have initialized in the constructor.\n",
    "# c. Now create 2nd function named setValue, and pass an argument named\n",
    "# ‘newValue’. The task of this function will be to replace the value of the\n",
    "# originalValue variable by the value of the newValue variable.\n",
    "\n",
    "class Encapsulation:\n",
    "    def __init__(self):\n",
    "        self.original_value = 10\n",
    "        \n",
    "    def value(self):\n",
    "        return self.original_value\n",
    "    \n",
    "    def set_value(self, new_value):\n",
    "        self.original_value = new_value\n",
    "        \n",
    "e = Encapsulation()\n",
    "print(e.value())\n",
    "e.set_value(20)\n",
    "print(e.value())"
   ]
  },
  {
   "cell_type": "code",
   "execution_count": null,
   "id": "73dfacfd",
   "metadata": {},
   "outputs": [],
   "source": []
  }
 ],
 "metadata": {
  "kernelspec": {
   "display_name": "Python 3 (ipykernel)",
   "language": "python",
   "name": "python3"
  },
  "language_info": {
   "codemirror_mode": {
    "name": "ipython",
    "version": 3
   },
   "file_extension": ".py",
   "mimetype": "text/x-python",
   "name": "python",
   "nbconvert_exporter": "python",
   "pygments_lexer": "ipython3",
   "version": "3.9.12"
  }
 },
 "nbformat": 4,
 "nbformat_minor": 5
}
