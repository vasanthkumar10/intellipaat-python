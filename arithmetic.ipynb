{
 "cells": [
  {
   "cell_type": "code",
   "execution_count": null,
   "id": "09ef16e9",
   "metadata": {},
   "outputs": [],
   "source": [
    "def get_sum(n1, n2):\n",
    "    return n1 + n2\n",
    "\n",
    "def get_sub(n1, n2):\n",
    "    return n1 - n2\n",
    "\n",
    "def get_mul(n1, n2):\n",
    "    return n1 * n2\n",
    "\n",
    "def get_rem(n1, n2):\n",
    "    return n1 % n2\n",
    "\n",
    "\n",
    "def get_employee():\n",
    "    return 'SELECT * from {table_name}'"
   ]
  }
 ],
 "metadata": {
  "kernelspec": {
   "display_name": "Python 3 (ipykernel)",
   "language": "python",
   "name": "python3"
  },
  "language_info": {
   "codemirror_mode": {
    "name": "ipython",
    "version": 3
   },
   "file_extension": ".py",
   "mimetype": "text/x-python",
   "name": "python",
   "nbconvert_exporter": "python",
   "pygments_lexer": "ipython3",
   "version": "3.9.12"
  }
 },
 "nbformat": 4,
 "nbformat_minor": 5
}
