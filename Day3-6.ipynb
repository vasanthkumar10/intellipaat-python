{
 "cells": [
  {
   "cell_type": "code",
   "execution_count": 13,
   "id": "789a1e4e",
   "metadata": {},
   "outputs": [
    {
     "name": "stdout",
     "output_type": "stream",
     "text": [
      "[1, 2, 3, 5, 4]\n"
     ]
    }
   ],
   "source": [
    "# collections -> list, tuple, set, dictionary\n",
    "# list -> [], duplicates are allowed, ordered / indexed, mutable(part of data can be changed)\n",
    "\n",
    "# names = [] # list()\n",
    "# print(names, type(names))\n",
    "\n",
    "# names = ['Abhinav', 'Piyush', 'jay', 'Nayeem','ratik' 'Shubam']\n",
    "# # print(names)\n",
    "# print(names[0], names[1], names[4])\n",
    "\n",
    "nums = [1, 2, 3, 5, 4]\n",
    "print(nums)"
   ]
  },
  {
   "cell_type": "code",
   "execution_count": 22,
   "id": "82c9914b",
   "metadata": {},
   "outputs": [
    {
     "name": "stdout",
     "output_type": "stream",
     "text": [
      "[1, 1, 2, 3, 4, 3, 2] 1\n",
      "[10, 1, 2, 3, 4, 3, 2] 10\n"
     ]
    }
   ],
   "source": [
    "# values = [1, 'vasi', True, None, 10.65, 1+3j]\n",
    "# print(values)\n",
    "\n",
    "nums = [1, 1, 2, 3, 4, 3, 2]\n",
    "print(nums, nums[0])\n",
    "\n",
    "nums[0] = 10 # mutable\n",
    "print(nums, nums[0])"
   ]
  },
  {
   "cell_type": "code",
   "execution_count": 44,
   "id": "259ce648",
   "metadata": {},
   "outputs": [
    {
     "name": "stdout",
     "output_type": "stream",
     "text": [
      "[]\n"
     ]
    }
   ],
   "source": [
    "players = ['virat', 'dhoni', 'rohit', 'sachin', 'sehwag']\n",
    "# print(players)\n",
    "# pop -> remove the last value by default\n",
    "# removed_player = players.pop()\n",
    "# print(players, removed_player)\n",
    "# removed_player = players.pop()\n",
    "# print(players, removed_player)\n",
    "\n",
    "# players.pop(2) # index is passed, the value at that index will get removed\n",
    "# print(players)\n",
    "\n",
    "\n",
    "# index_to_be_removed = players.index('sachin')\n",
    "# index_to_be_removed = players.index('raina')\n",
    "# players.pop(index_to_be_removed)\n",
    "# print(players)\n",
    "\n",
    "# players.remove('dhoni')\n",
    "# players.remove('raina') # not suggested\n",
    "# print(players)\n",
    "\n",
    "# membership operator\n",
    "# print('raina' in players)\n",
    "# print('sachin' in players)\n",
    "\n",
    "# players.clear()\n",
    "# print(players)"
   ]
  },
  {
   "cell_type": "code",
   "execution_count": 57,
   "id": "8b143078",
   "metadata": {},
   "outputs": [
    {
     "name": "stdout",
     "output_type": "stream",
     "text": [
      "['virat', 'dhoni', 'rohit', 'sachin', 'sehwag', 'raina'] raina\n"
     ]
    }
   ],
   "source": [
    "# add values\n",
    "players = ['virat', 'dhoni', 'rohit', 'sachin', 'sehwag']\n",
    "# players.append('raina') # add value at the end\n",
    "# players.append('hardik')\n",
    "# print(players)\n",
    "\n",
    "# players.insert(0, 'raina') # insert(position, value)\n",
    "players.insert(20, 'raina') # insert(position, value)\n",
    "print(players, players[5])\n"
   ]
  },
  {
   "cell_type": "code",
   "execution_count": 67,
   "id": "86455c3c",
   "metadata": {},
   "outputs": [
    {
     "name": "stdout",
     "output_type": "stream",
     "text": [
      "['piyush', 'manorath', 'ankur', 'atanaska', 'Bicky', 'Govardhan', 'Guru', 'Jacob']\n"
     ]
    }
   ],
   "source": [
    "class_A = ['piyush', 'manorath', 'ankur', 'atanaska']\n",
    "class_B = ['Bicky', 'Govardhan', 'Guru', 'Jacob']\n",
    "# ['piyush', 'manorath', 'ankur', 'atanaska', 'Bicky', 'Govardhan', 'Guru', 'Jacob']\n",
    "\n",
    "# new_class = class_A + class_B\n",
    "# print(new_class)\n",
    "\n",
    "# extend\n",
    "class_A.extend(class_B)\n",
    "print(class_A)"
   ]
  },
  {
   "cell_type": "code",
   "execution_count": 70,
   "id": "8cbf518c",
   "metadata": {},
   "outputs": [
    {
     "name": "stdout",
     "output_type": "stream",
     "text": [
      "['piyush', 'manorath', 'ankur', 'atanaska']\n",
      "['atanaska', 'ankur', 'manorath', 'piyush']\n"
     ]
    }
   ],
   "source": [
    "names = ['piyush', 'manorath', 'ankur', 'atanaska']\n",
    "print(names)\n",
    "names.reverse()\n",
    "print(names)"
   ]
  },
  {
   "cell_type": "code",
   "execution_count": 92,
   "id": "ef51122c",
   "metadata": {},
   "outputs": [
    {
     "name": "stdout",
     "output_type": "stream",
     "text": [
      "['Piyush', 'manorath', 'ankur', 'atanaska', 'Zebra', '10', '20', '37']\n"
     ]
    }
   ],
   "source": [
    "# sort\n",
    "names = ['Piyush', 'manorath', 'ankur', 'atanaska', 'Zebra', '10', '20', '37']\n",
    "# ankur, atanaska, manorath, piyush\n",
    "# names.sort()\n",
    "print(names)\n",
    "\n",
    "# names.sort(reverse=True) # desc order\n",
    "# print(names)\n",
    "\n",
    "\n",
    "# names.sort(key = str.upper) # (key=str.lower)\n",
    "# print(names)\n",
    "\n",
    "# names.sort(reverse=True, key = str.lower) # (key=str.upper)\n",
    "# print(names)\n",
    "\n",
    "\n",
    "# # nums = [1, 2, 3, 1, 4, 7, 7, 7]\n",
    "# names = ['vasi', 'vasi', 'raj']\n",
    "# print(nums.count('raj'))"
   ]
  },
  {
   "cell_type": "code",
   "execution_count": 104,
   "id": "b128dfbc",
   "metadata": {},
   "outputs": [
    {
     "name": "stdout",
     "output_type": "stream",
     "text": [
      "2\n"
     ]
    }
   ],
   "source": [
    "# tuple -> (), duplicate values are allowed, indexed/ordered, immutable\n",
    "# nums = () # tuple()\n",
    "# print(nums)\n",
    "\n",
    "\n",
    "nums = (1, 2, 4, 3, 3)\n",
    "# print(nums)\n",
    "# print(nums[0], nums[1], nums[3])\n",
    "\n",
    "# nums[0] = 10\n",
    "# print(nums) # error\n",
    "\n",
    "print(nums.count(3))"
   ]
  },
  {
   "cell_type": "code",
   "execution_count": 125,
   "id": "4df1f305",
   "metadata": {
    "scrolled": true
   },
   "outputs": [
    {
     "name": "stdout",
     "output_type": "stream",
     "text": [
      "{1, 2, 3, 4, 5}\n",
      "set()\n"
     ]
    }
   ],
   "source": [
    "# set -> {}, mutable, unordered / not indexed, duplicates are not allowed\n",
    "# nums = set()\n",
    "# print(nums, type(nums))\n",
    "\n",
    "\n",
    "nums = {1, 2, 3, 4, 5, 5, 6}\n",
    "# print(nums)\n",
    "\n",
    "# add\n",
    "# nums.add(7)\n",
    "# print(nums)\n",
    "\n",
    "# nums.add(8)\n",
    "# print(nums)\n",
    "\n",
    "# nums.remove(5)\n",
    "# nums.remove(6)\n",
    "# print(nums)\n",
    "\n",
    "# nums.discard(10) # recommended \n",
    "# nums.discard(6)\n",
    "# print(nums)\n",
    "\n",
    "\n",
    "# nums.clear()\n",
    "# print(nums)"
   ]
  },
  {
   "cell_type": "code",
   "execution_count": 136,
   "id": "0fdecbee",
   "metadata": {},
   "outputs": [
    {
     "name": "stdout",
     "output_type": "stream",
     "text": [
      "{1, 2, 3}\n",
      "{6, 7}\n"
     ]
    }
   ],
   "source": [
    "set1 = {1, 2, 3, 4, 5}\n",
    "set2 = {4, 5, 6, 7}\n",
    "# print(set1.union(set2))\n",
    "# print(set2.union(set1))\n",
    "\n",
    "# print(set1.intersection(set2))\n",
    "# print(set2.intersection(set1))\n",
    "\n",
    "\n",
    "print(set1.difference(set2))\n",
    "print(set2.difference(set1))"
   ]
  },
  {
   "cell_type": "code",
   "execution_count": 139,
   "id": "7ef54137",
   "metadata": {},
   "outputs": [
    {
     "name": "stdout",
     "output_type": "stream",
     "text": [
      "{} <class 'dict'>\n"
     ]
    }
   ],
   "source": [
    "# dictionary -> key values, {}\n",
    "person = {} # dict()\n",
    "print(person, type(person))"
   ]
  },
  {
   "cell_type": "code",
   "execution_count": 149,
   "id": "8644d45b",
   "metadata": {},
   "outputs": [
    {
     "name": "stdout",
     "output_type": "stream",
     "text": [
      "Rajni 70 chennai\n"
     ]
    }
   ],
   "source": [
    "person = {\n",
    "    \"name\": \"Rajni\",\n",
    "    \"age\": 70,\n",
    "    \"place\": \"chennai\"\n",
    "}\n",
    "\n",
    "\n",
    "# print(person)\n",
    "# print(person[\"name\"], person[\"age\"], person[\"place\"])\n",
    "# print(person.get(\"name\"), person.get(\"age\"), person.get(\"place\", \"India\"))"
   ]
  },
  {
   "cell_type": "code",
   "execution_count": 160,
   "id": "fe34f603",
   "metadata": {},
   "outputs": [
    {
     "name": "stdout",
     "output_type": "stream",
     "text": [
      "{}\n"
     ]
    }
   ],
   "source": [
    "person = {\n",
    "    \"name\": \"Rajni\",\n",
    "    \"age\": 70,\n",
    "    \"daughter\": {\n",
    "        \"name\": \"Aishwarya\",\n",
    "        \"husband\": \"Dhanush\"\n",
    "    }\n",
    "}\n",
    "\n",
    "# print(person.get(\"daughter\").get(\"name\"))\n",
    "\n",
    "# remove\n",
    "# person.get(\"daughter\").pop(\"name\")\n",
    "# print(person.get(\"daughter\"))\n",
    "\n",
    "# clear\n",
    "person.clear()\n",
    "print(person)"
   ]
  },
  {
   "cell_type": "code",
   "execution_count": 188,
   "id": "a73b3f86",
   "metadata": {},
   "outputs": [
    {
     "name": "stdout",
     "output_type": "stream",
     "text": [
      "VASANTH\n",
      "HTNASAV\n"
     ]
    }
   ],
   "source": [
    "# SLICING (start=0 or -1, end-1, step=1)\n",
    "name = 'VASANTH'\n",
    "# print(name[0:6])\n",
    "# print(name[2:4])\n",
    "\n",
    "# print(name[:6])\n",
    "# print(name[2:])\n",
    "# print(name[:])\n",
    "\n",
    "# print(name[0:6:2])\n",
    "# print(name[0:6:3])\n",
    "# print(name[::2])\n",
    "\n",
    "# print(name[-5:-2])\n",
    "# print(name[-2:-5:-1])\n",
    "# print(name[-6:-2:-2])\n",
    "# print(name[1:-2])\n",
    "\n",
    "\n",
    "# print(name[-2:0:-1])\n",
    "print(name[::1])\n",
    "print(name[::-1])"
   ]
  },
  {
   "cell_type": "code",
   "execution_count": 191,
   "id": "d1420efc",
   "metadata": {},
   "outputs": [
    {
     "name": "stdout",
     "output_type": "stream",
     "text": [
      "You are minor\n"
     ]
    }
   ],
   "source": [
    "# conditional statements\n",
    "\n",
    "is_voterid_available = False\n",
    "if(is_voterid_available == True):\n",
    "    print('You can vote')\n",
    "else:\n",
    "    print('You are minor')"
   ]
  },
  {
   "cell_type": "code",
   "execution_count": 195,
   "id": "55b695bd",
   "metadata": {},
   "outputs": [
    {
     "name": "stdout",
     "output_type": "stream",
     "text": [
      "You are minor\n"
     ]
    }
   ],
   "source": [
    "# nested conditional statement\n",
    "is_voterid_available = False\n",
    "age = 16\n",
    "\n",
    "if(is_voterid_available == True):\n",
    "    if(age >= 18):\n",
    "        print('You can vote')\n",
    "    else:\n",
    "        print('You are minor')\n",
    "else:\n",
    "    print('You are minor')"
   ]
  },
  {
   "cell_type": "code",
   "execution_count": 198,
   "id": "eb8bd599",
   "metadata": {},
   "outputs": [
    {
     "name": "stdout",
     "output_type": "stream",
     "text": [
      "You are minor\n"
     ]
    }
   ],
   "source": [
    "# nested conditionals statements with conditions\n",
    "is_voterid_available = False\n",
    "age = 16\n",
    "\n",
    "if(is_voterid_available == True and age >= 18):\n",
    "    print('You can vote')\n",
    "else:\n",
    "    print('You are minor')"
   ]
  },
  {
   "cell_type": "code",
   "execution_count": 201,
   "id": "b8d850b8",
   "metadata": {},
   "outputs": [
    {
     "name": "stdout",
     "output_type": "stream",
     "text": [
      "You can reach office\n"
     ]
    }
   ],
   "source": [
    "bus = False\n",
    "train = True\n",
    "\n",
    "if(bus == True or train == True):\n",
    "    print('You can reach office')\n",
    "else:\n",
    "    print('Boss is very happy')"
   ]
  },
  {
   "cell_type": "code",
   "execution_count": 206,
   "id": "fb1ce47f",
   "metadata": {},
   "outputs": [
    {
     "name": "stdout",
     "output_type": "stream",
     "text": [
      "num1 is greater\n"
     ]
    }
   ],
   "source": [
    "# n1, n2, n3 which is greater\n",
    "num1 = 500\n",
    "num2 = 100\n",
    "num3 = 15\n",
    "\n",
    "if(num1 > num2 and num1 > num3):\n",
    "    print('num1 is greater')\n",
    "elif(num2 > num1 and num2 > num3):\n",
    "    print('num2 is greater')\n",
    "else:\n",
    "    print('num3 is greater')"
   ]
  },
  {
   "cell_type": "code",
   "execution_count": 5,
   "id": "60f6dbd5",
   "metadata": {},
   "outputs": [
    {
     "ename": "NameError",
     "evalue": "name 'get_sum' is not defined",
     "output_type": "error",
     "traceback": [
      "\u001b[1;31m---------------------------------------------------------------------------\u001b[0m",
      "\u001b[1;31mNameError\u001b[0m                                 Traceback (most recent call last)",
      "Input \u001b[1;32mIn [5]\u001b[0m, in \u001b[0;36m<cell line: 1>\u001b[1;34m()\u001b[0m\n\u001b[1;32m----> 1\u001b[0m \u001b[43mget_sum\u001b[49m(\u001b[38;5;241m4\u001b[39m, \u001b[38;5;241m5\u001b[39m)\n",
      "\u001b[1;31mNameError\u001b[0m: name 'get_sum' is not defined"
     ]
    }
   ],
   "source": []
  },
  {
   "cell_type": "code",
   "execution_count": null,
   "id": "064db0bc",
   "metadata": {},
   "outputs": [],
   "source": []
  }
 ],
 "metadata": {
  "kernelspec": {
   "display_name": "Python 3 (ipykernel)",
   "language": "python",
   "name": "python3"
  },
  "language_info": {
   "codemirror_mode": {
    "name": "ipython",
    "version": 3
   },
   "file_extension": ".py",
   "mimetype": "text/x-python",
   "name": "python",
   "nbconvert_exporter": "python",
   "pygments_lexer": "ipython3",
   "version": "3.9.12"
  }
 },
 "nbformat": 4,
 "nbformat_minor": 5
}
