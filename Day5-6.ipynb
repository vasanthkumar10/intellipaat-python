{
 "cells": [
  {
   "cell_type": "code",
   "execution_count": 25,
   "id": "710f10ef",
   "metadata": {},
   "outputs": [
    {
     "name": "stdout",
     "output_type": "stream",
     "text": [
      "150\n",
      "5\n",
      "510\n",
      "2.0\n"
     ]
    }
   ],
   "source": [
    "import arithmetic as a\n",
    "import math\n",
    "num = 10\n",
    "total = arithmetic.get_sum(100, 50)\n",
    "print(total)\n",
    "\n",
    "diff = a.get_sub(10, 5)\n",
    "print(diff)\n",
    "\n",
    "product = arithmetic.get_mul(10, 51)\n",
    "print(product)\n",
    "\n",
    "print(ma.sqrt(4))"
   ]
  },
  {
   "cell_type": "code",
   "execution_count": 20,
   "id": "332941e8",
   "metadata": {},
   "outputs": [
    {
     "name": "stdout",
     "output_type": "stream",
     "text": [
      "Congratulations Rohit for your double century\n",
      "Congratulations Rohit for your double century\n"
     ]
    }
   ],
   "source": [
    "name = 'Rohit'\n",
    "# Congratulations Kishan for your double century\n",
    "print(f'Congratulations {name} for your double century')\n",
    "print('Congratulations {name} for your double century'.format(name='Rohit'))"
   ]
  },
  {
   "cell_type": "code",
   "execution_count": 18,
   "id": "0820cf25",
   "metadata": {},
   "outputs": [
    {
     "name": "stdout",
     "output_type": "stream",
     "text": [
      "Congratulations Kishan for your double century\n"
     ]
    }
   ],
   "source": [
    "def get_greeting():\n",
    "    return 'Congratulations {name} for your double century'\n",
    "\n",
    "greeting_msg = get_greeting()\n",
    "print(greeting_msg.format(name='Kishan'))"
   ]
  },
  {
   "cell_type": "code",
   "execution_count": 30,
   "id": "3c55e8ce",
   "metadata": {},
   "outputs": [
    {
     "name": "stdout",
     "output_type": "stream",
     "text": [
      "SELECT * from {table_name}\n",
      "SELECT * from employee\n",
      "SELECT * from manager\n"
     ]
    }
   ],
   "source": [
    "import queries as sql\n",
    "\n",
    "employee_query = sql.get_employee()\n",
    "print(employee_query)\n",
    "print(employee_query.format(table_name='employee'))\n",
    "print(employee_query.format(table_name='manager'))"
   ]
  },
  {
   "cell_type": "code",
   "execution_count": 26,
   "id": "281ce04d",
   "metadata": {},
   "outputs": [
    {
     "name": "stdout",
     "output_type": "stream",
     "text": [
      "10\n"
     ]
    }
   ],
   "source": [
    "print(num)"
   ]
  },
  {
   "cell_type": "code",
   "execution_count": 31,
   "id": "560e78a9",
   "metadata": {},
   "outputs": [
    {
     "ename": "ModuleNotFoundError",
     "evalue": "No module named 'mysql'",
     "output_type": "error",
     "traceback": [
      "\u001b[1;31m---------------------------------------------------------------------------\u001b[0m",
      "\u001b[1;31mModuleNotFoundError\u001b[0m                       Traceback (most recent call last)",
      "Input \u001b[1;32mIn [31]\u001b[0m, in \u001b[0;36m<cell line: 1>\u001b[1;34m()\u001b[0m\n\u001b[1;32m----> 1\u001b[0m \u001b[38;5;28;01mimport\u001b[39;00m \u001b[38;5;21;01mmysql\u001b[39;00m\u001b[38;5;21;01m.\u001b[39;00m\u001b[38;5;21;01mconnector\u001b[39;00m \u001b[38;5;28;01mas\u001b[39;00m \u001b[38;5;21;01mcon\u001b[39;00m\n\u001b[0;32m      3\u001b[0m mydb \u001b[38;5;241m=\u001b[39m con\u001b[38;5;241m.\u001b[39mconnect(host\u001b[38;5;241m=\u001b[39m\u001b[38;5;124m'\u001b[39m\u001b[38;5;124mlocalhost\u001b[39m\u001b[38;5;124m'\u001b[39m, user\u001b[38;5;241m=\u001b[39m\u001b[38;5;124m'\u001b[39m\u001b[38;5;124madmin\u001b[39m\u001b[38;5;124m'\u001b[39m, password\u001b[38;5;241m=\u001b[39m\u001b[38;5;124m'\u001b[39m\u001b[38;5;124mpassword\u001b[39m\u001b[38;5;124m'\u001b[39m)\n",
      "\u001b[1;31mModuleNotFoundError\u001b[0m: No module named 'mysql'"
     ]
    }
   ],
   "source": [
    "import mysql.connector as con\n",
    "\n",
    "mydb = con.connect(host='localhost', user='admin', password='password')"
   ]
  },
  {
   "cell_type": "code",
   "execution_count": 48,
   "id": "d16e593c",
   "metadata": {},
   "outputs": [
    {
     "name": "stdout",
     "output_type": "stream",
     "text": [
      "Enter the number to be checked: 3\n",
      "prime number\n"
     ]
    }
   ],
   "source": [
    "# prime or not\n",
    "# 2, 3, 5, 7, 11, 13, 17, 19, 23, 29, 31......\n",
    "num = int(input('Enter the number to be checked: '))\n",
    "\n",
    "if (num <= 1):\n",
    "    print('Invalid ...')\n",
    "else:\n",
    "    # flag based approach\n",
    "    is_prime = True\n",
    "    for i in range(2, num):\n",
    "        if (num % i == 0):\n",
    "            is_prime = False\n",
    "            break\n",
    "    \n",
    "    if (is_prime == True):\n",
    "        print('prime number')\n",
    "    else:\n",
    "        print('Not a prime number')"
   ]
  },
  {
   "cell_type": "code",
   "execution_count": 55,
   "id": "9d489f30",
   "metadata": {},
   "outputs": [
    {
     "name": "stdout",
     "output_type": "stream",
     "text": [
      "Enter the number to be checked: 113\n",
      "prime number\n"
     ]
    }
   ],
   "source": [
    "# prime or not\n",
    "# 2, 3, 5, 7, 11, 13, 17, 19, 23, 29, 31......\n",
    "# optimised - 1\n",
    "num = int(input('Enter the number to be checked: '))\n",
    "\n",
    "if (num <= 1):\n",
    "    print('Invalid ...')\n",
    "else:\n",
    "    # flag based approach\n",
    "    is_prime = True\n",
    "    for i in range(2, num // 2 + 1):\n",
    "        if (num % i == 0):\n",
    "            is_prime = False\n",
    "            break\n",
    "    \n",
    "    if (is_prime == True):\n",
    "        print('prime number')\n",
    "    else:\n",
    "        print('Not a prime number')"
   ]
  },
  {
   "cell_type": "code",
   "execution_count": 57,
   "id": "e54b070b",
   "metadata": {},
   "outputs": [
    {
     "name": "stdout",
     "output_type": "stream",
     "text": [
      "Enter the number to be checked: 1000001\n",
      "Not a prime number\n"
     ]
    }
   ],
   "source": [
    "# prime or not\n",
    "# 2, 3, 5, 7, 11, 13, 17, 19, 23, 29, 31......\n",
    "# optimised - 2\n",
    "import math as m\n",
    "num = int(input('Enter the number to be checked: '))\n",
    "\n",
    "if (num <= 1):\n",
    "    print('Invalid ...')\n",
    "else:\n",
    "    # flag based approach\n",
    "    is_prime = True\n",
    "    for i in range(2, int(m.sqrt(num))):\n",
    "        if (num % i == 0):\n",
    "            is_prime = False\n",
    "            break\n",
    "    \n",
    "    if (is_prime == True):\n",
    "        print('prime number')\n",
    "    else:\n",
    "        print('Not a prime number')"
   ]
  },
  {
   "cell_type": "code",
   "execution_count": 69,
   "id": "17cc6e59",
   "metadata": {},
   "outputs": [
    {
     "name": "stdout",
     "output_type": "stream",
     "text": [
      "Enter the number: 153\n",
      "last digit --> 3\n",
      "remaining number 15\n",
      "last digit --> 5\n",
      "remaining number 1\n",
      "last digit --> 1\n",
      "remaining number 0\n",
      "armstrong number\n"
     ]
    }
   ],
   "source": [
    "# armstrong number\n",
    "# 153 -> 1**3 + 5**3 + 3**3 = 1 + 125 + 27 = 153 -> armstrong number\n",
    "# 64 -> 6**3 + 4**3 = 216 + 64 = 280 -> not an armstrong number\n",
    "\n",
    "num = int(input('Enter the number: '))\n",
    "original_num = num\n",
    "\n",
    "total = 0\n",
    "while(num > 0):\n",
    "    digit = num % 10\n",
    "    print('last digit -->', digit)\n",
    "    total = total + digit ** 3\n",
    "    num = num // 10\n",
    "    print('remaining number', num)\n",
    "    \n",
    "\n",
    "if (original_num == total):\n",
    "    print('armstrong number')\n",
    "else:\n",
    "    print('not an armstrong number')"
   ]
  },
  {
   "cell_type": "code",
   "execution_count": 74,
   "id": "a0b3b8f9",
   "metadata": {},
   "outputs": [
    {
     "name": "stdout",
     "output_type": "stream",
     "text": [
      "Enter num1: 10\n",
      "Enter num2: 15\n",
      "Enter the command: ADD\n",
      "invalid...\n"
     ]
    }
   ],
   "source": [
    "def get_sum(n1, n2):\n",
    "    return n1 + n2\n",
    "\n",
    "def get_sub(n1, n2):\n",
    "    return n1 - n2\n",
    "\n",
    "def get_mul(n1, n2):\n",
    "    return n1 * n2\n",
    "\n",
    "def get_rem(n1, n2):\n",
    "    return n1 % n2\n",
    "\n",
    "\n",
    "# num1, num2, command -> add, sub, mul, rem\n",
    "num1 = int(input('Enter num1: '))\n",
    "num2 = int(input('Enter num2: '))\n",
    "command = input('Enter the command: ')\n",
    "\n",
    "if(command == 'add'):\n",
    "    print(get_sum(num1, num2))\n",
    "elif(command == 'sub'):\n",
    "    print(get_sub(num1, num2))\n",
    "elif(command == 'mul'):\n",
    "    print(get_mul(num1, num2))\n",
    "elif(command == 'rem'):\n",
    "    print(get_rem(num1, num2))\n",
    "else:\n",
    "    print('invalid...')"
   ]
  },
  {
   "cell_type": "code",
   "execution_count": 76,
   "id": "ca4b1ca6",
   "metadata": {},
   "outputs": [
    {
     "name": "stdout",
     "output_type": "stream",
     "text": [
      "Enter num1: 10\n",
      "Enter num2: 15\n",
      "Enter the command: mul\n",
      "150\n"
     ]
    }
   ],
   "source": [
    "def get_sum(n1, n2):\n",
    "    return n1 + n2\n",
    "\n",
    "def get_sub(n1, n2):\n",
    "    return n1 - n2\n",
    "\n",
    "def get_mul(n1, n2):\n",
    "    return n1 * n2\n",
    "\n",
    "def get_rem(n1, n2):\n",
    "    return n1 % n2\n",
    "\n",
    "\n",
    "# num1, num2, command -> add, sub, mul, rem\n",
    "num1 = int(input('Enter num1: '))\n",
    "num2 = int(input('Enter num2: '))\n",
    "command = input('Enter the command: ')\n",
    "command = command.upper() # conversion\n",
    "\n",
    "if(command == 'ADD'):\n",
    "    print(get_sum(num1, num2))\n",
    "elif(command == 'SUB'):\n",
    "    print(get_sub(num1, num2))\n",
    "elif(command == 'MUL'):\n",
    "    print(get_mul(num1, num2))\n",
    "elif(command == 'REM'):\n",
    "    print(get_rem(num1, num2))\n",
    "else:\n",
    "    print('invalid...')"
   ]
  },
  {
   "cell_type": "code",
   "execution_count": 90,
   "id": "9d316075",
   "metadata": {},
   "outputs": [
    {
     "name": "stdout",
     "output_type": "stream",
     "text": [
      "0 1 1 2 3 "
     ]
    }
   ],
   "source": [
    "# fibonacci series -> 0, 1, 1, 2, 3, 5, 8, 13, 21, 34 ....\n",
    "# 5 fibonacci nums -> 0, 1, 1, 2, 3\n",
    "\n",
    "count = 5\n",
    "n1 = 0\n",
    "n2 = 1\n",
    "\n",
    "if (count == 1):\n",
    "    print(n1)\n",
    "else:\n",
    "    while(count > 0):\n",
    "        print(n1, end = ' ')\n",
    "        temp = n1 + n2\n",
    "        n1 = n2\n",
    "        n2 = temp\n",
    "#         print('n1 ->', n1, 'n2 ->', n2)\n",
    "        count -= 1"
   ]
  },
  {
   "cell_type": "code",
   "execution_count": 95,
   "id": "a888af30",
   "metadata": {},
   "outputs": [
    {
     "name": "stdout",
     "output_type": "stream",
     "text": [
      "India\n"
     ]
    }
   ],
   "source": [
    "# nested dictionary\n",
    "\n",
    "car = {\n",
    "    'name': 'Mercedez',\n",
    "    'model': 2022,\n",
    "    'type': 'Sedan',\n",
    "    'mileage': 40,\n",
    "    'tyres': {\n",
    "        'count': 5,\n",
    "        'brand': 'Michelline',\n",
    "        'company': {\n",
    "            'place': 'India',\n",
    "            'mfg': \"2000 tyres per day\"\n",
    "        }\n",
    "    }\n",
    "}\n",
    "\n",
    "# mileage\n",
    "# print(car.get('mileage'))\n",
    "# print(car.get('tyres').get('brand'))\n",
    "# print(car.get('tyres').get('company').get('place'))"
   ]
  },
  {
   "cell_type": "code",
   "execution_count": 103,
   "id": "fd809525",
   "metadata": {},
   "outputs": [
    {
     "name": "stdout",
     "output_type": "stream",
     "text": [
      "True\n",
      "False\n"
     ]
    }
   ],
   "source": [
    "# sets\n",
    "set1 = {1, 2, 3, 4}\n",
    "set2 = {3, 4, 5, 6}\n",
    "\n",
    "# print(set1.union(set2))\n",
    "# print(set2.union(set1))\n",
    "\n",
    "# print(set1.intersection(set2))\n",
    "# print(set2.intersection(set1))\n",
    "\n",
    "# print(set1.difference(set2))\n",
    "# print(set2.difference(set1))\n",
    "\n",
    "\n",
    "# set1 = {1, 2, 3, 4, 5, 6}\n",
    "# set2 = {2, 3}\n",
    "# print(set2.issubset(set1))\n",
    "# print(set1.issubset(set2))"
   ]
  },
  {
   "cell_type": "code",
   "execution_count": 107,
   "id": "93d4eec8",
   "metadata": {},
   "outputs": [
    {
     "name": "stdout",
     "output_type": "stream",
     "text": [
      "['name', 'made_in', 'harvested_on']\n",
      "['apple', 'india', '10th Dec 2022']\n",
      "[('name', 'apple'), ('made_in', 'india'), ('harvested_on', '10th Dec 2022')]\n"
     ]
    }
   ],
   "source": [
    "fruit = {\n",
    "    'name': 'apple',\n",
    "    'made_in': 'india',\n",
    "    'harvested_on': '10th Dec 2022'\n",
    "}\n",
    "\n",
    "# keys\n",
    "print(list(fruit.keys()))\n",
    "# values\n",
    "print(list(fruit.values()))\n",
    "# keys and values\n",
    "print(list(fruit.items()))"
   ]
  },
  {
   "cell_type": "code",
   "execution_count": 108,
   "id": "3f23e1d8",
   "metadata": {},
   "outputs": [
    {
     "name": "stdout",
     "output_type": "stream",
     "text": [
      "Ronaldo\n",
      "Messi\n",
      "Neymar\n",
      "Sunil\n",
      "Vasanth\n",
      "ibrahimovic\n",
      "beckham\n"
     ]
    }
   ],
   "source": [
    "players = ['Ronaldo', 'Messi', 'Neymar', 'Sunil', 'Vasanth', 'ibrahimovic', 'beckham']\n",
    "for name in players:\n",
    "    print(name)\n"
   ]
  },
  {
   "cell_type": "code",
   "execution_count": 113,
   "id": "6a510e13",
   "metadata": {},
   "outputs": [
    {
     "name": "stdout",
     "output_type": "stream",
     "text": [
      "0 Ronaldo\n",
      "1 Messi\n",
      "2 Neymar\n",
      "3 Sunil\n",
      "4 Vasanth\n",
      "5 ibrahimovic\n",
      "6 beckham\n"
     ]
    }
   ],
   "source": [
    "players = ['Ronaldo', 'Messi', 'Neymar', 'Sunil', 'Vasanth', 'ibrahimovic', 'beckham']\n",
    "\n",
    "for index, name in enumerate(players):\n",
    "    print(index, name)"
   ]
  },
  {
   "cell_type": "code",
   "execution_count": 120,
   "id": "28db1d66",
   "metadata": {},
   "outputs": [
    {
     "name": "stdout",
     "output_type": "stream",
     "text": [
      "name virat\n",
      "age 34\n",
      "{'name': 'virat', 'age': 34}\n"
     ]
    }
   ],
   "source": [
    "keys = ['name', 'age']\n",
    "values = ['virat', 34]\n",
    "# {\n",
    "#   'name': 'virat',\n",
    "#   'age': 34\n",
    "# }\n",
    "\n",
    "person = dict()\n",
    "for i in range(len(keys)):\n",
    "#     print(keys[i], values[i])\n",
    "    key = keys[i]\n",
    "    value = values[i]\n",
    "    print(key, value)\n",
    "    person[key] = value\n",
    "    \n",
    "print(person)"
   ]
  },
  {
   "cell_type": "code",
   "execution_count": 118,
   "id": "ff068b9b",
   "metadata": {},
   "outputs": [
    {
     "name": "stdout",
     "output_type": "stream",
     "text": [
      "{'name': 'virat', 'age': 34, 'car': 'audi r8'}\n"
     ]
    }
   ],
   "source": [
    "person = {\n",
    "    'name': 'virat', \n",
    "    'age': 34\n",
    "}\n",
    "\n",
    "# person['age'] = 50\n",
    "# person['car'] = 'audi r8'\n",
    "print(person)"
   ]
  },
  {
   "cell_type": "code",
   "execution_count": 126,
   "id": "d7bdf8ef",
   "metadata": {},
   "outputs": [
    {
     "name": "stdout",
     "output_type": "stream",
     "text": [
      "{'name': 'virat', 'age': 34, 'place': 'india'}\n"
     ]
    }
   ],
   "source": [
    "keys = ['name', 'age', 'place']\n",
    "values = ['virat', 34, 'india', 'delhi']\n",
    "\n",
    "person = dict()\n",
    "for key, value in zip(keys, values): # zip will stop if any one of the list ends\n",
    "    person[key] = value\n",
    "print(person)"
   ]
  },
  {
   "cell_type": "code",
   "execution_count": 129,
   "id": "02d1dd66",
   "metadata": {},
   "outputs": [
    {
     "name": "stdout",
     "output_type": "stream",
     "text": [
      "[2, 4, 6, 8, 10, 12, 14, 16, 18, 20, 22, 24, 26, 28, 30, 32, 34, 36, 38, 40, 42, 44, 46, 48]\n"
     ]
    }
   ],
   "source": [
    "# even nos uptp 50\n",
    "even_nums = []\n",
    "num = 50\n",
    "for num in range(2, num, 2):\n",
    "    even_nums.append(num)\n",
    "print(even_nums)\n"
   ]
  },
  {
   "cell_type": "code",
   "execution_count": 130,
   "id": "8578776e",
   "metadata": {},
   "outputs": [
    {
     "name": "stdout",
     "output_type": "stream",
     "text": [
      "[4, 16, 36, 64, 100, 144, 196, 256, 324, 400, 484, 576, 676, 784, 900, 1024, 1156, 1296, 1444, 1600, 1764, 1936, 2116, 2304]\n"
     ]
    }
   ],
   "source": [
    "# even nos uptp 50\n",
    "even_nums = []\n",
    "num = 50\n",
    "for num in range(2, num, 2):\n",
    "    even_nums.append(num ** 2)\n",
    "print(even_nums)"
   ]
  },
  {
   "cell_type": "code",
   "execution_count": 136,
   "id": "d2562721",
   "metadata": {},
   "outputs": [
    {
     "name": "stdout",
     "output_type": "stream",
     "text": [
      "['', 'bc@y', 'hoo.com']\n"
     ]
    }
   ],
   "source": [
    "mail_id = 'abc@yahoo.com' # #yahoo.com. @hotmail.com\n",
    "# host and domain\n",
    "# host -> abc\n",
    "# domain -> gmail.com\n",
    "\n",
    "# split()\n",
    "# host, domain = mail_id.split('@')\n",
    "# print(host, domain)\n",
    "# print(mail_id.split('a'))"
   ]
  },
  {
   "cell_type": "code",
   "execution_count": null,
   "id": "efab4b51",
   "metadata": {},
   "outputs": [],
   "source": []
  }
 ],
 "metadata": {
  "kernelspec": {
   "display_name": "Python 3 (ipykernel)",
   "language": "python",
   "name": "python3"
  },
  "language_info": {
   "codemirror_mode": {
    "name": "ipython",
    "version": 3
   },
   "file_extension": ".py",
   "mimetype": "text/x-python",
   "name": "python",
   "nbconvert_exporter": "python",
   "pygments_lexer": "ipython3",
   "version": "3.9.12"
  }
 },
 "nbformat": 4,
 "nbformat_minor": 5
}
