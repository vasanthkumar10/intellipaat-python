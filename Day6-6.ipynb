{
 "cells": [
  {
   "cell_type": "code",
   "execution_count": 6,
   "id": "6a8bf676",
   "metadata": {},
   "outputs": [
    {
     "name": "stdout",
     "output_type": "stream",
     "text": [
      "Enter the username: vasi\n",
      "Enter the password: 1234\n",
      "Invalid username or password\n",
      "Enter the username: Piyush\n",
      "Enter the password: 1234\n",
      "Logged in successfully\n"
     ]
    }
   ],
   "source": [
    "# Procedural programmming\n",
    "# functional programming\n",
    "# Object Oriented Programming Structure(OOPs)\n",
    "\n",
    "\n",
    "# Procedural programming -> FORTRAN, BASIC, C\n",
    "\n",
    "username = input('Enter the username: ')\n",
    "password = input('Enter the password: ')\n",
    "\n",
    "original_username = 'Piyush' # API (Application Programming Interface)\n",
    "original_password = '1234' # DB call\n",
    "\n",
    "if(username == original_username and password == original_password):\n",
    "    print('Logged in successfully')\n",
    "else:\n",
    "    print('Invalid username or password')\n",
    "    \n",
    "    \n",
    "username = input('Enter the username: ')\n",
    "password = input('Enter the password: ')\n",
    "\n",
    "original_username = 'Piyush' # API (Application Programming Interface)\n",
    "original_password = '1234' # DB call\n",
    "\n",
    "if(username == original_username and password == original_password):\n",
    "    print('Logged in successfully')\n",
    "else:\n",
    "    print('Invalid username or password')\n"
   ]
  },
  {
   "cell_type": "code",
   "execution_count": 10,
   "id": "6e667c74",
   "metadata": {},
   "outputs": [
    {
     "name": "stdout",
     "output_type": "stream",
     "text": [
      "Enter the username: dgajhdbas\n",
      "Enter the password: dadas\n",
      "invalid username or password\n",
      "Enter the username: dASDAS\n",
      "Enter the password: fdafas\n",
      "invalid username or password\n",
      "Enter the username: Piyush\n",
      "Enter the password: 1234\n",
      "logged in successfully\n"
     ]
    }
   ],
   "source": [
    "# functional programming\n",
    "\n",
    "def validate(username, password):\n",
    "    original_username = 'Piyush' # API (Application Programming Interface)\n",
    "    original_password = '1234' # DataBase call\n",
    "    \n",
    "    if(username == original_username and password == original_password):\n",
    "        print('logged in successfully')\n",
    "    else:\n",
    "        print('invalid username or password')\n",
    "\n",
    "def get_user_input():\n",
    "    username = input('Enter the username: ')\n",
    "    password = input('Enter the password: ')\n",
    "    validate(username, password)\n",
    "    \n",
    "for i in range(3):\n",
    "    get_user_input()"
   ]
  },
  {
   "cell_type": "code",
   "execution_count": 13,
   "id": "e4dfabdc",
   "metadata": {},
   "outputs": [
    {
     "name": "stdout",
     "output_type": "stream",
     "text": [
      "Iphone 14 Charger\n"
     ]
    }
   ],
   "source": [
    "# Object Oriented Programming structure\n",
    "item = 'Iphone 14'\n",
    "item_price = 70000\n",
    "item_quantity = 2\n",
    "item_total_price = item_price * item_quantity\n",
    "\n",
    "item2 = 'Charger'\n",
    "item2_price = 5000\n",
    "item2_quantity = 1\n",
    "item2_total_price = item2_price * item2_quantity\n",
    "\n",
    "print(item, item2)"
   ]
  },
  {
   "cell_type": "code",
   "execution_count": 16,
   "id": "e35689aa",
   "metadata": {},
   "outputs": [
    {
     "name": "stdout",
     "output_type": "stream",
     "text": [
      "<__main__.Human object at 0x00000298C47AAE50> <class '__main__.Human'>\n"
     ]
    }
   ],
   "source": [
    "# Object Oriented Programming structure\n",
    "# variables inside a class -> properties or attributes\n",
    "# functions inside a class -> methods or behaviours\n",
    "# class - is a blue print\n",
    "# object - is an instance(real time entity) of a class\n",
    "\n",
    "class Human:\n",
    "    age = 20 # properties\n",
    "    gender = 'female'\n",
    "    color = 'white'\n",
    "    \n",
    "    def walk(): # methods\n",
    "        print('walking')\n",
    "        \n",
    "    def eat():\n",
    "        print('eating')\n",
    "        \n",
    "vasi = Human()\n",
    "Ankur = Human()\n",
    "meena = Human()\n",
    "print(meena, Human)"
   ]
  },
  {
   "cell_type": "code",
   "execution_count": 30,
   "id": "801af8db",
   "metadata": {},
   "outputs": [
    {
     "name": "stdout",
     "output_type": "stream",
     "text": [
      "140000\n"
     ]
    }
   ],
   "source": [
    "class Item:\n",
    "    def calculate_total_price(self, price, quantity):\n",
    "        # print('self --->', self)\n",
    "        return price * quantity\n",
    "    \n",
    "phone = Item() # instantiation (creating the object -> memories will get allocated)\n",
    "# print('phone --->', phone)\n",
    "phone.name = 'Iphone 14'\n",
    "phone.price = 70000\n",
    "phone.quantity = 2\n",
    "\n",
    "# print(phone.name, phone.price, phone.quantity)\n",
    "print(phone.calculate_total_price(phone.price, phone.quantity))"
   ]
  },
  {
   "cell_type": "code",
   "execution_count": 39,
   "id": "3a048c22",
   "metadata": {},
   "outputs": [
    {
     "name": "stdout",
     "output_type": "stream",
     "text": [
      "{'name': 'Iphone 14', 'price': 70000, 'quantity': 2}\n",
      "{'name': 'Iphone charger', 'price': 5000, 'quantity': 1}\n"
     ]
    }
   ],
   "source": [
    "class Item:\n",
    "    def calculate_total_price(self, price, quantity):\n",
    "        # print('self --->', self)\n",
    "        return price * quantity\n",
    "    \n",
    "phone = Item() # instantiation (creating the object -> memories will get allocated)\n",
    "# print('phone --->', phone)\n",
    "phone.name = 'Iphone 14'\n",
    "phone.price = 70000\n",
    "phone.quantity = 2\n",
    "\n",
    "# print(phone.name, phone.price, phone.quantity)\n",
    "phone_total_price = phone.calculate_total_price(phone.price, phone.quantity)\n",
    "# print('Phone total price:- ', phone_total_price)\n",
    "\n",
    "charger = Item()\n",
    "charger.name = 'Iphone charger'\n",
    "charger.price = 5000\n",
    "charger.quantity = 1\n",
    "charger_total_price = charger.calculate_total_price(charger.price, charger.quantity)\n",
    "# print('charger total price:- ', charger_total_price)\n",
    "\n",
    "\n",
    "print(phone.__dict__)\n",
    "print(charger.__dict__) # magic or dunder methods"
   ]
  },
  {
   "cell_type": "code",
   "execution_count": 52,
   "id": "5a2a52d8",
   "metadata": {},
   "outputs": [
    {
     "name": "stdout",
     "output_type": "stream",
     "text": [
      "Iphone 14 70000 2\n"
     ]
    }
   ],
   "source": [
    "# constructor -> a place where memories are created(initialised) and it is called automatically when objects are created\n",
    "class Item:\n",
    "    def __init__(self, name, price, quantity):\n",
    "#         print('constructor called', self)\n",
    "        self.name = name\n",
    "        self.price = price\n",
    "        self.quantity = quantity\n",
    "        \n",
    "    def calculate_total_price(self, price, quantity):\n",
    "        return price * quantity\n",
    "        \n",
    "phone = Item('Iphone 14', 70000, 2)\n",
    "charger = Item('Iphone charger', 5000, 1)\n",
    "# print(phone.name, phone.price, phone.quantity)\n",
    "# print(phone.__dict__)\n",
    "# print(charger.__dict__)\n",
    "\n",
    "phone_total_price = phone.calculate_total_price(phone.price, phone.quantity)\n",
    "# print(phone_total_price)"
   ]
  },
  {
   "cell_type": "code",
   "execution_count": 54,
   "id": "02587d34",
   "metadata": {},
   "outputs": [
    {
     "name": "stdout",
     "output_type": "stream",
     "text": [
      "140000\n",
      "15000\n"
     ]
    }
   ],
   "source": [
    "# constructor -> a place where memories are created(initialised) and it is called automatically when objects are created\n",
    "class Item:\n",
    "    def __init__(self, name, price, quantity):\n",
    "#         print('constructor called', self)\n",
    "        self.name = name\n",
    "        self.price = price\n",
    "        self.quantity = quantity\n",
    "        \n",
    "    def calculate_total_price(self):\n",
    "#         print(self.price, self.quantity)\n",
    "        return self.price * self.quantity\n",
    "        \n",
    "phone = Item('Iphone 14', 70000, 2)\n",
    "charger = Item('Iphone charger', 5000, 3)\n",
    "# print(phone.name, phone.price, phone.quantity)\n",
    "# print(phone.__dict__)\n",
    "# print(charger.__dict__)\n",
    "\n",
    "print(phone.calculate_total_price())\n",
    "print(charger.calculate_total_price())"
   ]
  },
  {
   "cell_type": "code",
   "execution_count": 64,
   "id": "23883069",
   "metadata": {},
   "outputs": [
    {
     "ename": "AssertionError",
     "evalue": "Invalid quantity -> -2. It should be greater than zero",
     "output_type": "error",
     "traceback": [
      "\u001b[1;31m---------------------------------------------------------------------------\u001b[0m",
      "\u001b[1;31mAssertionError\u001b[0m                            Traceback (most recent call last)",
      "Input \u001b[1;32mIn [64]\u001b[0m, in \u001b[0;36m<cell line: 14>\u001b[1;34m()\u001b[0m\n\u001b[0;32m     11\u001b[0m     \u001b[38;5;28;01mdef\u001b[39;00m \u001b[38;5;21mcalculate_total_price\u001b[39m(\u001b[38;5;28mself\u001b[39m):\n\u001b[0;32m     12\u001b[0m         \u001b[38;5;28;01mreturn\u001b[39;00m \u001b[38;5;28mself\u001b[39m\u001b[38;5;241m.\u001b[39mprice \u001b[38;5;241m*\u001b[39m \u001b[38;5;28mself\u001b[39m\u001b[38;5;241m.\u001b[39mquantity\n\u001b[1;32m---> 14\u001b[0m phone \u001b[38;5;241m=\u001b[39m \u001b[43mItem\u001b[49m\u001b[43m(\u001b[49m\u001b[38;5;124;43m'\u001b[39;49m\u001b[38;5;124;43mIphone 14\u001b[39;49m\u001b[38;5;124;43m'\u001b[39;49m\u001b[43m,\u001b[49m\u001b[43m \u001b[49m\u001b[38;5;241;43m70000\u001b[39;49m\u001b[43m,\u001b[49m\u001b[43m \u001b[49m\u001b[38;5;241;43m-\u001b[39;49m\u001b[38;5;241;43m2\u001b[39;49m\u001b[43m)\u001b[49m\n\u001b[0;32m     15\u001b[0m \u001b[38;5;28mprint\u001b[39m(phone\u001b[38;5;241m.\u001b[39mcalculate_total_price())\n",
      "Input \u001b[1;32mIn [64]\u001b[0m, in \u001b[0;36mItem.__init__\u001b[1;34m(self, name, price, quantity)\u001b[0m\n\u001b[0;32m      2\u001b[0m \u001b[38;5;28;01mdef\u001b[39;00m \u001b[38;5;21m__init__\u001b[39m(\u001b[38;5;28mself\u001b[39m, name, price, quantity):\n\u001b[0;32m      4\u001b[0m     \u001b[38;5;28;01massert\u001b[39;00m price \u001b[38;5;241m>\u001b[39m\u001b[38;5;241m=\u001b[39m \u001b[38;5;241m0\u001b[39m, \u001b[38;5;124mf\u001b[39m\u001b[38;5;124m'\u001b[39m\u001b[38;5;124mInvalid price -> \u001b[39m\u001b[38;5;132;01m{\u001b[39;00mprice\u001b[38;5;132;01m}\u001b[39;00m\u001b[38;5;124m. It should be greater than or equal to zero\u001b[39m\u001b[38;5;124m'\u001b[39m\n\u001b[1;32m----> 5\u001b[0m     \u001b[38;5;28;01massert\u001b[39;00m quantity \u001b[38;5;241m>\u001b[39m \u001b[38;5;241m0\u001b[39m, \u001b[38;5;124mf\u001b[39m\u001b[38;5;124m'\u001b[39m\u001b[38;5;124mInvalid quantity -> \u001b[39m\u001b[38;5;132;01m{\u001b[39;00mquantity\u001b[38;5;132;01m}\u001b[39;00m\u001b[38;5;124m. It should be greater than zero\u001b[39m\u001b[38;5;124m'\u001b[39m\n\u001b[0;32m      7\u001b[0m     \u001b[38;5;28mself\u001b[39m\u001b[38;5;241m.\u001b[39mname \u001b[38;5;241m=\u001b[39m name\n\u001b[0;32m      8\u001b[0m     \u001b[38;5;28mself\u001b[39m\u001b[38;5;241m.\u001b[39mprice \u001b[38;5;241m=\u001b[39m price\n",
      "\u001b[1;31mAssertionError\u001b[0m: Invalid quantity -> -2. It should be greater than zero"
     ]
    }
   ],
   "source": [
    "class Item:\n",
    "    def __init__(self, name, price, quantity):\n",
    "        \n",
    "        assert price >= 0, f'Invalid price -> {price}. It should be greater than or equal to zero'\n",
    "        assert quantity > 0, f'Invalid quantity -> {quantity}. It should be greater than zero'\n",
    "        \n",
    "        self.name = name\n",
    "        self.price = price\n",
    "        self.quantity = quantity\n",
    "        \n",
    "    def calculate_total_price(self):\n",
    "        return self.price * self.quantity\n",
    "        \n",
    "phone = Item('Iphone 14', 70000, -2)\n",
    "print(phone.calculate_total_price())"
   ]
  },
  {
   "cell_type": "code",
   "execution_count": 69,
   "id": "49d25ffd",
   "metadata": {},
   "outputs": [
    {
     "name": "stdout",
     "output_type": "stream",
     "text": [
      "210000\n"
     ]
    }
   ],
   "source": [
    "class Item:\n",
    "    def __init__(self, name, price = 0, quantity = 1):\n",
    "        \n",
    "        assert price >= 0, f'Invalid price -> {price}. It should be greater than or equal to zero'\n",
    "        assert quantity > 0, f'Invalid quantity -> {quantity}. It should be greater than zero'\n",
    "        \n",
    "        self.name = name\n",
    "        self.price = price\n",
    "        self.quantity = quantity\n",
    "        \n",
    "    def calculate_total_price(self):\n",
    "        return self.price * self.quantity\n",
    "        \n",
    "phone = Item('Iphone 14', 70000, 3)\n",
    "print(phone.calculate_total_price())"
   ]
  },
  {
   "cell_type": "code",
   "execution_count": 75,
   "id": "d38d22cb",
   "metadata": {},
   "outputs": [
    {
     "name": "stdout",
     "output_type": "stream",
     "text": [
      "VASANTH <class 'str'>\n",
      "<class 'int'> 10\n",
      "<class 'list'> rohit\n"
     ]
    }
   ],
   "source": [
    "class Item:\n",
    "    def __init__(self, name, price = 0, quantity = 1):\n",
    "        \n",
    "        assert price >= 0, f'Invalid price -> {price}. It should be greater than or equal to zero'\n",
    "        assert quantity > 0, f'Invalid quantity -> {quantity}. It should be greater than zero'\n",
    "        \n",
    "        self.name = name\n",
    "        self.price = price\n",
    "        self.quantity = quantity\n",
    "        \n",
    "    def calculate_total_price(self):\n",
    "        return self.price * self.quantity\n",
    "        \n",
    "phone = Item('Iphone 14', 70000, 3)\n",
    "phone.calculate_total_price()\n",
    "\n",
    "\n",
    "\n",
    "name = 'vasanth'\n",
    "print(name.upper(), type(name))\n",
    "\n",
    "num = 10\n",
    "print(type(num), num)\n",
    "\n",
    "names = ['virat', 'rohit']\n",
    "print(type(names), names.pop())"
   ]
  },
  {
   "cell_type": "code",
   "execution_count": 76,
   "id": "06ae2e17",
   "metadata": {},
   "outputs": [
    {
     "name": "stdout",
     "output_type": "stream",
     "text": [
      "vasanth\n",
      "rajeev\n"
     ]
    }
   ],
   "source": [
    "name = 'vasanth'\n",
    "print(name)\n",
    "\n",
    "name = str('rajeev')\n",
    "print(name)\n",
    "\n",
    "names = tuple()"
   ]
  },
  {
   "cell_type": "code",
   "execution_count": 82,
   "id": "5c715590",
   "metadata": {},
   "outputs": [
    {
     "name": "stdout",
     "output_type": "stream",
     "text": [
      "60000 5000\n"
     ]
    }
   ],
   "source": [
    "class Item:\n",
    "    def __init__(self, name, price = 0, quantity = 1):\n",
    "        \n",
    "        assert price >= 0, f'Invalid price -> {price}. It should be greater than or equal to zero'\n",
    "        assert quantity > 0, f'Invalid quantity -> {quantity}. It should be greater than zero'\n",
    "        # object / self properties\n",
    "        self.name = name\n",
    "        self.price = price\n",
    "        self.quantity = quantity\n",
    "        \n",
    "    def calculate_total_price(self):\n",
    "        return self.price * self.quantity\n",
    "        \n",
    "phone = Item('Iphone 14', 70000, 3)\n",
    "charger = Item('Iphone charger', 5000, 1)\n",
    "# print(phone.price)\n",
    "\n",
    "phone.price = 60000\n",
    "# phone.quantity = 2\n",
    "print(phone.price, charger.price)\n",
    "\n"
   ]
  },
  {
   "cell_type": "code",
   "execution_count": 89,
   "id": "88018c55",
   "metadata": {},
   "outputs": [
    {
     "name": "stdout",
     "output_type": "stream",
     "text": [
      "56000.0\n",
      "4000.0\n"
     ]
    }
   ],
   "source": [
    "class Item:\n",
    "    # class property - constant for all objects\n",
    "    discount = 0.2 # 20% discount\n",
    "    \n",
    "    def __init__(self, name, price = 0, quantity = 1):\n",
    "        \n",
    "        assert price >= 0, f'Invalid price -> {price}. It should be greater than or equal to zero'\n",
    "        assert quantity > 0, f'Invalid quantity -> {quantity}. It should be greater than zero'\n",
    "        # object / self properties\n",
    "        self.name = name\n",
    "        self.price = price\n",
    "        self.quantity = quantity\n",
    "        \n",
    "    def calculate_total_price(self):\n",
    "        return self.price * self.quantity\n",
    "    \n",
    "    def apply_discount(self):\n",
    "        self.price = self.price - (self.price * Item.discount)\n",
    "        \n",
    "phone = Item('Iphone 14', 70000, 1)\n",
    "charger = Item('Iphone charger', 5000, 1)\n",
    "\n",
    "phone.apply_discount()\n",
    "print(phone.calculate_total_price())\n",
    "\n",
    "charger.apply_discount()\n",
    "print(charger.calculate_total_price())"
   ]
  },
  {
   "cell_type": "code",
   "execution_count": 95,
   "id": "b3168c2b",
   "metadata": {},
   "outputs": [
    {
     "name": "stdout",
     "output_type": "stream",
     "text": [
      "35000.0\n",
      "1000.0\n"
     ]
    }
   ],
   "source": [
    "class Item:\n",
    "    # class property - constant for all objects\n",
    "    discount = 0.2 # 20% discount\n",
    "    \n",
    "    def __init__(self, name, price = 0, quantity = 1):\n",
    "        \n",
    "        assert price >= 0, f'Invalid price -> {price}. It should be greater than or equal to zero'\n",
    "        assert quantity > 0, f'Invalid quantity -> {quantity}. It should be greater than zero'\n",
    "        # object / self properties\n",
    "        self.name = name\n",
    "        self.price = price\n",
    "        self.quantity = quantity\n",
    "        \n",
    "    def calculate_total_price(self):\n",
    "        return self.price * self.quantity\n",
    "    \n",
    "    def apply_discount(self):\n",
    "        self.price = self.price - (self.price * self.discount) # by default it will take class property\n",
    "        \n",
    "phone = Item('Iphone 14', 70000, 1)\n",
    "charger = Item('Iphone charger', 5000, 1)\n",
    "\n",
    "phone.discount = 0.5\n",
    "phone.apply_discount()\n",
    "print(phone.calculate_total_price())\n",
    "\n",
    "charger.discount = 0.8\n",
    "charger.apply_discount()\n",
    "print(charger.calculate_total_price())"
   ]
  },
  {
   "cell_type": "code",
   "execution_count": 101,
   "id": "bd8d6dc9",
   "metadata": {},
   "outputs": [
    {
     "name": "stdout",
     "output_type": "stream",
     "text": [
      "{'name': 'Iphone 14', 'price': 70000, 'quantity': 1, 'is_case_available': False}\n",
      "{'name': 'samsung 22', 'price': 50000, 'quantity': 1, 'is_case_available': True}\n",
      "{'name': 'tomato', 'price': 30, 'quantity': 1}\n"
     ]
    }
   ],
   "source": [
    "class Item:\n",
    "    # class property - constant for all objects\n",
    "    discount = 0.2 # 20% discount\n",
    "    \n",
    "    def __init__(self, name, price = 0, quantity = 1):\n",
    "        \n",
    "        assert price >= 0, f'Invalid price -> {price}. It should be greater than or equal to zero'\n",
    "        assert quantity > 0, f'Invalid quantity -> {quantity}. It should be greater than zero'\n",
    "        # object / self properties\n",
    "        self.name = name\n",
    "        self.price = price\n",
    "        self.quantity = quantity\n",
    "        \n",
    "    def calculate_total_price(self):\n",
    "        return self.price * self.quantity\n",
    "    \n",
    "    def apply_discount(self):\n",
    "        self.price = self.price - (self.price * self.discount) # by default it will take class property\n",
    "        \n",
    "phone = Item('Iphone 14', 70000, 1)\n",
    "# additional properties can be created\n",
    "phone.is_case_available = False\n",
    "print(phone.__dict__)\n",
    "\n",
    "samsung = Item('samsung 22', 50000, 1)\n",
    "samsung.is_case_available = True\n",
    "print(samsung.__dict__)\n",
    "\n",
    "tomato = Item('tomato', 30, 1)\n",
    "print(tomato.__dict__)"
   ]
  },
  {
   "cell_type": "code",
   "execution_count": null,
   "id": "0ddef36e",
   "metadata": {},
   "outputs": [],
   "source": [
    "# OOPs -> 4 pillars -> Encapsulation, Abstraction, Inheritance and Polymorphism"
   ]
  },
  {
   "cell_type": "code",
   "execution_count": 113,
   "id": "9e075c95",
   "metadata": {},
   "outputs": [
    {
     "name": "stdout",
     "output_type": "stream",
     "text": [
      "True\n"
     ]
    }
   ],
   "source": [
    "# ATM\n",
    "class ATM:\n",
    "    original_username = 'vaishnavi'\n",
    "    original_pin_number = '1234'\n",
    "    \n",
    "    def __init__(self, username, pin_number):\n",
    "        self.username = username\n",
    "        self.pin_number = pin_number\n",
    "        \n",
    "    def validate(self):\n",
    "        if(self.username == ATM.original_username and self.pin_number == ATM.original_pin_number):\n",
    "            return True\n",
    "        else:\n",
    "            return False\n",
    "        \n",
    "Meena = ATM('meena', '6789')\n",
    "# print(Meena.__dict__)\n",
    "# print(Meena.original_username, Meena.original_pin_number)\n",
    "# Meena.original_username = 'meena'\n",
    "# Meena.original_pin_number = '6789'\n",
    "# ATM.original_username = 'meena'\n",
    "# ATM.original_pin_number = '6789'\n",
    "print(Meena.validate())"
   ]
  },
  {
   "cell_type": "code",
   "execution_count": 125,
   "id": "aaf565d8",
   "metadata": {},
   "outputs": [
    {
     "ename": "AttributeError",
     "evalue": "'ATM' object has no attribute '__original_username'",
     "output_type": "error",
     "traceback": [
      "\u001b[1;31m---------------------------------------------------------------------------\u001b[0m",
      "\u001b[1;31mAttributeError\u001b[0m                            Traceback (most recent call last)",
      "Input \u001b[1;32mIn [125]\u001b[0m, in \u001b[0;36m<cell line: 19>\u001b[1;34m()\u001b[0m\n\u001b[0;32m     17\u001b[0m \u001b[38;5;66;03m# print(ATM.__original_username, ATM.__original_pin_number)\u001b[39;00m\n\u001b[0;32m     18\u001b[0m Vaishnavi \u001b[38;5;241m=\u001b[39m ATM(\u001b[38;5;124m'\u001b[39m\u001b[38;5;124mvaishnavi\u001b[39m\u001b[38;5;124m'\u001b[39m, \u001b[38;5;124m'\u001b[39m\u001b[38;5;124m1234\u001b[39m\u001b[38;5;124m'\u001b[39m)\n\u001b[1;32m---> 19\u001b[0m \u001b[38;5;28mprint\u001b[39m(\u001b[43mVaishnavi\u001b[49m\u001b[38;5;241;43m.\u001b[39;49m\u001b[43m__original_username\u001b[49m, Vaishnavi\u001b[38;5;241m.\u001b[39m__original_pin_number)\n",
      "\u001b[1;31mAttributeError\u001b[0m: 'ATM' object has no attribute '__original_username'"
     ]
    }
   ],
   "source": [
    "# Encapsulation --> public, private(can't be accessible outside class)\n",
    "class ATM:\n",
    "    __original_username = 'vaishnavi' # to change a property to private, add 2 _\n",
    "    __original_pin_number = '1234'\n",
    "    \n",
    "    def __init__(self, username, pin_number):\n",
    "        self.username = username\n",
    "        self.pin_number = pin_number\n",
    "        \n",
    "    def validate(self):\n",
    "        if(self.username == ATM.__original_username and self.pin_number == ATM.__original_pin_number):\n",
    "            return True\n",
    "        else:\n",
    "            return False\n",
    "        \n",
    "Meena = ATM('meena', '6789')\n",
    "# print(ATM.__original_username, ATM.__original_pin_number)\n",
    "Vaishnavi = ATM('vaishnavi', '1234')\n",
    "print(Vaishnavi.__original_username, Vaishnavi.__original_pin_number)"
   ]
  },
  {
   "cell_type": "code",
   "execution_count": null,
   "id": "0bf9411e",
   "metadata": {},
   "outputs": [],
   "source": [
    "# getters and setters"
   ]
  }
 ],
 "metadata": {
  "kernelspec": {
   "display_name": "Python 3 (ipykernel)",
   "language": "python",
   "name": "python3"
  },
  "language_info": {
   "codemirror_mode": {
    "name": "ipython",
    "version": 3
   },
   "file_extension": ".py",
   "mimetype": "text/x-python",
   "name": "python",
   "nbconvert_exporter": "python",
   "pygments_lexer": "ipython3",
   "version": "3.9.12"
  }
 },
 "nbformat": 4,
 "nbformat_minor": 5
}
