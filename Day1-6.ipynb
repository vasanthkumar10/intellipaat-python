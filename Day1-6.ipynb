{
 "cells": [
  {
   "cell_type": "code",
   "execution_count": 1,
   "id": "e4d06a89",
   "metadata": {},
   "outputs": [
    {
     "name": "stdout",
     "output_type": "stream",
     "text": [
      "Hello Everyone\n"
     ]
    }
   ],
   "source": [
    "print('Hello Everyone')"
   ]
  },
  {
   "cell_type": "code",
   "execution_count": 2,
   "id": "0af5ca9d",
   "metadata": {},
   "outputs": [
    {
     "name": "stdout",
     "output_type": "stream",
     "text": [
      "10\n"
     ]
    }
   ],
   "source": [
    "# variables -> to store the data\n",
    "num = 10\n",
    "print(num)"
   ]
  },
  {
   "cell_type": "code",
   "execution_count": 3,
   "id": "2ec9bc19",
   "metadata": {},
   "outputs": [
    {
     "name": "stdout",
     "output_type": "stream",
     "text": [
      "<class 'int'>\n"
     ]
    }
   ],
   "source": [
    "num = 10\n",
    "print(type(num))"
   ]
  },
  {
   "cell_type": "code",
   "execution_count": 4,
   "id": "70b06d3c",
   "metadata": {},
   "outputs": [
    {
     "name": "stdout",
     "output_type": "stream",
     "text": [
      "<class 'float'>\n"
     ]
    }
   ],
   "source": [
    "num = 10.5\n",
    "print(type(num))"
   ]
  },
  {
   "cell_type": "code",
   "execution_count": 6,
   "id": "ceeeef18",
   "metadata": {},
   "outputs": [
    {
     "name": "stdout",
     "output_type": "stream",
     "text": [
      "<class 'str'>\n"
     ]
    }
   ],
   "source": [
    "# name = 'a'\n",
    "name = 'vasi'\n",
    "print(type(name))"
   ]
  },
  {
   "cell_type": "code",
   "execution_count": 9,
   "id": "7340db11",
   "metadata": {},
   "outputs": [
    {
     "name": "stdout",
     "output_type": "stream",
     "text": [
      "False <class 'bool'>\n"
     ]
    }
   ],
   "source": [
    "# int, float, str, bool\n",
    "is_cold = False\n",
    "print(is_cold, type(is_cold))"
   ]
  },
  {
   "cell_type": "code",
   "execution_count": 11,
   "id": "50c2499f",
   "metadata": {},
   "outputs": [
    {
     "name": "stdout",
     "output_type": "stream",
     "text": [
      "10\n",
      "15\n"
     ]
    }
   ],
   "source": []
  },
  {
   "cell_type": "code",
   "execution_count": 12,
   "id": "bdd84df2",
   "metadata": {},
   "outputs": [],
   "source": [
    "# firstName -> camel case # not used in python\n",
    "# FirstName -> Pascal case -> classes in python\n",
    "# first_name -> snake case -> variables, functions in python\n",
    "\n",
    "# verbs -> functions\n",
    "# Nouns -> variables and classes"
   ]
  },
  {
   "cell_type": "code",
   "execution_count": 15,
   "id": "bef421c4",
   "metadata": {},
   "outputs": [
    {
     "name": "stdout",
     "output_type": "stream",
     "text": [
      "11\n"
     ]
    }
   ],
   "source": [
    "a = True\n",
    "b = 10\n",
    "print(a + b)"
   ]
  },
  {
   "cell_type": "code",
   "execution_count": 16,
   "id": "bbee22ae",
   "metadata": {},
   "outputs": [
    {
     "name": "stdout",
     "output_type": "stream",
     "text": [
      "1\n"
     ]
    }
   ],
   "source": [
    "a = True\n",
    "b = False\n",
    "print(a - b)"
   ]
  },
  {
   "cell_type": "code",
   "execution_count": 25,
   "id": "7cab0b78",
   "metadata": {},
   "outputs": [
    {
     "name": "stdout",
     "output_type": "stream",
     "text": [
      "5\n",
      "-1\n",
      "6\n",
      "0.6666666666666666\n",
      "0\n",
      "2\n",
      "8\n"
     ]
    }
   ],
   "source": [
    "# Operators and operands\n",
    "# Arithmetic operators\n",
    "\n",
    "num1 = 2\n",
    "num2 = 3\n",
    "\n",
    "print(num1 + num2)\n",
    "print(num1 - num2)\n",
    "print(num1 * num2)\n",
    "print(num1 / num2)\n",
    "print(num1 // num2) # double division operator -> quotient -> floor division\n",
    "print(num1 % num2) # modulus -> remainder\n",
    "print(num1 ** num2) # power"
   ]
  },
  {
   "cell_type": "code",
   "execution_count": 1,
   "id": "e13d4ce8",
   "metadata": {},
   "outputs": [
    {
     "data": {
      "text/plain": [
       "-3"
      ]
     },
     "execution_count": 1,
     "metadata": {},
     "output_type": "execute_result"
    }
   ],
   "source": [
    "# -13 % 3\n",
    "# -6 % 2\n",
    "\n",
    "# 17 % -4"
   ]
  },
  {
   "cell_type": "code",
   "execution_count": 31,
   "id": "b581eb75",
   "metadata": {},
   "outputs": [
    {
     "data": {
      "text/plain": [
       "-5"
      ]
     },
     "execution_count": 31,
     "metadata": {},
     "output_type": "execute_result"
    }
   ],
   "source": [
    "# -13 // 3\n",
    "\n",
    "\n",
    "# remainder theorem\n",
    "# rem = num - (div * quotient)"
   ]
  },
  {
   "cell_type": "code",
   "execution_count": 44,
   "id": "290f3b86",
   "metadata": {},
   "outputs": [
    {
     "name": "stdout",
     "output_type": "stream",
     "text": [
      "10000000000\n"
     ]
    }
   ],
   "source": [
    "# Assignment operators\n",
    "num = 10\n",
    "# num += 10 # num = num + 10\n",
    "# num -= 10\n",
    "# num *= 10\n",
    "# num /= 10\n",
    "# num //= 10\n",
    "# num %= 10\n",
    "# num **= 10\n",
    "print(num)"
   ]
  },
  {
   "cell_type": "code",
   "execution_count": 4,
   "id": "5809a303",
   "metadata": {},
   "outputs": [],
   "source": [
    "# comparison operators -> Boolean(True or False)\n",
    "# print(10 == 14) # comparing ==\n",
    "# print(10 != 14) # not equal\n",
    "# print(10 > 4)\n",
    "# print(10 < 4)\n",
    "# print(10 >= 10)\n",
    "# print(15 <= 10)\n",
    "\n",
    "\n",
    "# print(10 == '10')\n",
    "# print(10 + '5')"
   ]
  },
  {
   "cell_type": "code",
   "execution_count": null,
   "id": "d9e4a9b7",
   "metadata": {},
   "outputs": [],
   "source": []
  }
 ],
 "metadata": {
  "kernelspec": {
   "display_name": "Python 3 (ipykernel)",
   "language": "python",
   "name": "python3"
  },
  "language_info": {
   "codemirror_mode": {
    "name": "ipython",
    "version": 3
   },
   "file_extension": ".py",
   "mimetype": "text/x-python",
   "name": "python",
   "nbconvert_exporter": "python",
   "pygments_lexer": "ipython3",
   "version": "3.9.12"
  }
 },
 "nbformat": 4,
 "nbformat_minor": 5
}
