{
 "cells": [
  {
   "cell_type": "code",
   "execution_count": 10,
   "id": "fd7c2ad8",
   "metadata": {},
   "outputs": [],
   "source": [
    "# Logical operators -> and, or, not\n",
    "\n",
    "# and\n",
    "age = 32\n",
    "voter_id = False\n",
    "# print(age >= 18 and voter_id == True)\n",
    "\n",
    "# or\n",
    "bus = False\n",
    "train = False\n",
    "# print(bus == True or train == True)\n",
    "\n",
    "\n",
    "# not\n",
    "# print( not(10 > 5) )"
   ]
  },
  {
   "cell_type": "code",
   "execution_count": 42,
   "id": "eed6f678",
   "metadata": {},
   "outputs": [
    {
     "name": "stdout",
     "output_type": "stream",
     "text": [
      "False\n",
      "True\n",
      "True\n"
     ]
    }
   ],
   "source": [
    "# identity operators -> address checking, is, is not\n",
    "# is\n",
    "# print(type(10) is int)\n",
    "\n",
    "a = 256\n",
    "b = 257\n",
    "# print(id(a), id(b))\n",
    "# print(a, b)\n",
    "# b = 15\n",
    "# print(a, b)\n",
    "# print(id(a), id(b)) # id - get address of the variable\n",
    "\n",
    "\n",
    "print(a is b)\n",
    "print(a is not b)\n",
    "# print(not(a is b))"
   ]
  },
  {
   "cell_type": "code",
   "execution_count": 48,
   "id": "463c8063",
   "metadata": {},
   "outputs": [
    {
     "name": "stdout",
     "output_type": "stream",
     "text": [
      "False\n"
     ]
    }
   ],
   "source": [
    "# membership operator -> in, not in\n",
    "# print('India' in 'India won the world cup 2022')\n",
    "# print('2022' in 'India won the world cup 2022')\n",
    "\n",
    "print('India' not in 'India won the world cup 2022')"
   ]
  },
  {
   "cell_type": "code",
   "execution_count": 76,
   "id": "b0708734",
   "metadata": {},
   "outputs": [
    {
     "name": "stdout",
     "output_type": "stream",
     "text": [
      "2\n"
     ]
    }
   ],
   "source": [
    "# bitwise operators -> &, |, ^, <<, >>\n",
    "\n",
    "# print(16 & 21) # and\n",
    "# print(16 | 21) # or\n",
    "# print(16 ^ 21) # and\n",
    "# print(2 << 1) # left shift -> first * 2^second\n",
    "# print(3 << 2) # left shift\n",
    "# print(2 << 3) # left shift\n",
    "# print(64 << 5)\n",
    "\n",
    "# print(8 >> 1) # right shift -> first // 2^second\n",
    "# print(8 >> 2) # right shift\n",
    "# print(8 >> 3) # right shift\n",
    "# print(64 >> 5)"
   ]
  },
  {
   "cell_type": "code",
   "execution_count": 95,
   "id": "76e03aa8",
   "metadata": {},
   "outputs": [
    {
     "name": "stdout",
     "output_type": "stream",
     "text": [
      "vasanth\n"
     ]
    }
   ],
   "source": [
    "# short circuiting -> and\n",
    "\n",
    "# if(10 < 5 and print('checking')): # will go to 2nd statement only if 1st statement is True\n",
    "#     print('vasanth')\n",
    "\n",
    "\n",
    "# if(10 > 5 or print('checking')): # will go to 2nd statement only if 1st statement is False\n",
    "#     print('vasanth')"
   ]
  },
  {
   "cell_type": "code",
   "execution_count": 110,
   "id": "13613a4a",
   "metadata": {},
   "outputs": [
    {
     "name": "stdout",
     "output_type": "stream",
     "text": [
      "True\n"
     ]
    }
   ],
   "source": [
    "# num = 10 > 5 and 10\n",
    "num = 10 and 10 > 5\n",
    "print(num)"
   ]
  },
  {
   "cell_type": "code",
   "execution_count": 106,
   "id": "e60aa805",
   "metadata": {},
   "outputs": [
    {
     "name": "stdout",
     "output_type": "stream",
     "text": [
      "False\n"
     ]
    }
   ],
   "source": [
    "age = 15\n",
    "\n",
    "vote_id = age > 17 and \"Eligible\"\n",
    "print(vote_id)"
   ]
  },
  {
   "cell_type": "code",
   "execution_count": 124,
   "id": "b41ffb65",
   "metadata": {},
   "outputs": [
    {
     "name": "stdout",
     "output_type": "stream",
     "text": [
      "Johny johny yes papa\n",
      "Eating sugae no papa\n",
      "Telling lies no papa\n",
      "Open your mouth ha ha\n"
     ]
    }
   ],
   "source": [
    "# strings\n",
    "# print('sachin tendulkar')\n",
    "# print(\"sachin tendulkar\")\n",
    "\n",
    "# sachin tendulkar is a \"good\" cricketer\n",
    "# print('sachin tendulkar is a \"good\" cricketer')\n",
    "\n",
    "# sachin tendulkar is a 'good' cricketer\n",
    "# print(\"sachin tendulkar is a 'good' cricketer\")\n",
    "\n",
    "# \"sachin tendulkar\" is a 'good' cricketer\n",
    "# print(''' \"sachin tendulkar\" is a 'good' cricketer ''')\n",
    "# print(\"\"\" \"sachin tendulkar\" is a 'good' cricketer \"\"\")\n",
    "\n",
    "# poem\n",
    "print('''Johny johny yes papa\n",
    "Eating sugae no papa\n",
    "Telling lies no papa\n",
    "Open your mouth ha ha''')\n"
   ]
  },
  {
   "cell_type": "code",
   "execution_count": 135,
   "id": "ae7139b8",
   "metadata": {},
   "outputs": [
    {
     "name": "stdout",
     "output_type": "stream",
     "text": [
      "sachin tendulkar is a good cricketer. dhoni is the Indian captain\n",
      "sachin tendulkar is a good cricketer. dhoni is the Indian captain and his age is 40\n"
     ]
    }
   ],
   "source": [
    "first_name = \"sachin\"\n",
    "last_name = \"tendulkar\"\n",
    "captain = \"dhoni\"\n",
    "age = 40\n",
    "# sachin tendulkar is a good cricketer. dhoni is the Indian captain\n",
    "print(first_name + \" \" + last_name + \" \" + \"is a good cricketer.\" + \" \" + captain + \" \" + 'is the Indian captain' )\n",
    "# 3.7\n",
    "# formatted strings -> f\n",
    "print(f\"{first_name} {last_name} is a good cricketer. {captain} is the Indian captain and his age is {age}\")"
   ]
  },
  {
   "cell_type": "code",
   "execution_count": null,
   "id": "9908b401",
   "metadata": {},
   "outputs": [],
   "source": [
    "name = input('Enter the name ')\n",
    "age = input('Enter the age ')\n",
    "print(f\"my name is {name} and my age is {age}\")"
   ]
  },
  {
   "cell_type": "code",
   "execution_count": 143,
   "id": "b12c863d",
   "metadata": {},
   "outputs": [
    {
     "name": "stdout",
     "output_type": "stream",
     "text": [
      "10 <class 'int'>\n",
      "virat <class 'str'>\n"
     ]
    }
   ],
   "source": [
    "# python is dynamically typed\n",
    "num = 10\n",
    "print(num, type(num))\n",
    "num = 'virat'\n",
    "print(num, type(num))"
   ]
  },
  {
   "cell_type": "code",
   "execution_count": 151,
   "id": "be0b7165",
   "metadata": {},
   "outputs": [
    {
     "name": "stdout",
     "output_type": "stream",
     "text": [
      "Enter number 1: 10.5\n",
      "Enter number 2: 13.7\n",
      "24.2\n"
     ]
    }
   ],
   "source": [
    "# typecasting\n",
    "# num1 = int(input('Enter number 1: ')) # default datatype of input is 'str'\n",
    "# num2 = int(input('Enter number 2: '))\n",
    "\n",
    "# num1 = float(input('Enter number 1: ')) # default datatype of input is 'str'\n",
    "# num2 = float(input('Enter number 2: '))\n",
    "\n",
    "# print(num1 + num2)"
   ]
  },
  {
   "cell_type": "code",
   "execution_count": 160,
   "id": "0657b135",
   "metadata": {},
   "outputs": [
    {
     "name": "stdout",
     "output_type": "stream",
     "text": [
      "2924299957616 2924303032688 2924301461808 2924301462000 2924303301616\n"
     ]
    }
   ],
   "source": [
    "name = 'SUMAN'\n",
    "# print(name, len(name)) #len -> length\n",
    "\n",
    "# print(name[0], name[1], name[2], name[3], name[4], name[5])\n",
    "print(id(name[0]), id(name[1]), id(name[2]), id(name[3]), id(name[4]))"
   ]
  },
  {
   "cell_type": "code",
   "execution_count": 162,
   "id": "7ea2937f",
   "metadata": {},
   "outputs": [
    {
     "name": "stdout",
     "output_type": "stream",
     "text": [
      "Jay\n"
     ]
    }
   ],
   "source": [
    "# Strings are immutable (not changable if I try to change partly)\n",
    "name = 'SUMAN'\n",
    "# name[0] = 'J' # error\n",
    "name = 'Jay'\n",
    "print(name)"
   ]
  },
  {
   "cell_type": "code",
   "execution_count": 175,
   "id": "f05cee52",
   "metadata": {},
   "outputs": [
    {
     "name": "stdout",
     "output_type": "stream",
     "text": [
      "invod\n",
      "invodvvvv\n",
      "vvvvvinvod\n"
     ]
    }
   ],
   "source": [
    "# news = 'Osama killed Obama'\n",
    "# person = 'Osama'\n",
    "\n",
    "# print(person in news)\n",
    "\n",
    "# methods\n",
    "# name = \"Sahil\"\n",
    "# print(name.upper())\n",
    "# print(name.lower())\n",
    "\n",
    "\n",
    "# name = 'kamlakar jatale'\n",
    "# print(name.capitalize())\n",
    "\n",
    "# game = \"          god of war           \"\n",
    "# print(game.strip()) # removes unwanted spaces in front and back and by default \" \"\n",
    "\n",
    "name = 'vvvvvinvodvvvv'\n",
    "print(name.strip('v'))\n",
    "print(name.lstrip('v'))\n",
    "print(name.rstrip('v'))"
   ]
  },
  {
   "cell_type": "code",
   "execution_count": 187,
   "id": "27aeb6e8",
   "metadata": {},
   "outputs": [
    {
     "name": "stdout",
     "output_type": "stream",
     "text": [
      "JNDJAJJJJJJJJ\n",
      "JNDJAIIIIIIII\n"
     ]
    }
   ],
   "source": [
    "country = \"INDIAIIIIIIII\"\n",
    "print(country.replace(\"I\", \"J\"))\n",
    "print(country.replace(\"I\", \"J\", 2)) # 3rd params is the count"
   ]
  },
  {
   "cell_type": "code",
   "execution_count": 186,
   "id": "209d818b",
   "metadata": {},
   "outputs": [
    {
     "name": "stdout",
     "output_type": "stream",
     "text": [
      "Meena\n"
     ]
    }
   ],
   "source": [
    "# data scientists\n",
    "# name1 = \"Jay\"\n",
    "# name2 = \"Rojith\"\n",
    "# name3 = \"Syed\"\n",
    "# name4 = \"meena\"\n",
    "# name5 = \"Piyush\"\n",
    "# name6 = 'dasdas'\n",
    "\n",
    "\n",
    "data_scientists = [\"Jay\", \"Rojith\", \"Syed\", \"Meena\", \"Piyush\"]\n",
    "print(data_scientists[3])"
   ]
  },
  {
   "cell_type": "code",
   "execution_count": 189,
   "id": "066fc343",
   "metadata": {},
   "outputs": [
    {
     "name": "stdout",
     "output_type": "stream",
     "text": [
      "enter num10\n",
      "10\n",
      "abhinav\n",
      "True\n"
     ]
    }
   ],
   "source": [
    "num = int(input('enter num'))\n",
    "print(num)\n",
    "num = 'abhinav'\n",
    "print(num)\n",
    "\n",
    "num = True\n",
    "print(num)"
   ]
  },
  {
   "cell_type": "code",
   "execution_count": null,
   "id": "18dfa739",
   "metadata": {},
   "outputs": [],
   "source": []
  },
  {
   "cell_type": "code",
   "execution_count": null,
   "id": "c7797c63",
   "metadata": {},
   "outputs": [],
   "source": []
  }
 ],
 "metadata": {
  "kernelspec": {
   "display_name": "Python 3 (ipykernel)",
   "language": "python",
   "name": "python3"
  },
  "language_info": {
   "codemirror_mode": {
    "name": "ipython",
    "version": 3
   },
   "file_extension": ".py",
   "mimetype": "text/x-python",
   "name": "python",
   "nbconvert_exporter": "python",
   "pygments_lexer": "ipython3",
   "version": "3.9.12"
  }
 },
 "nbformat": 4,
 "nbformat_minor": 5
}
