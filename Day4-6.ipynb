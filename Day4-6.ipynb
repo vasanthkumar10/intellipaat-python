{
 "cells": [
  {
   "cell_type": "code",
   "execution_count": 6,
   "id": "c7eec4ca",
   "metadata": {},
   "outputs": [
    {
     "name": "stdout",
     "output_type": "stream",
     "text": [
      "3\n"
     ]
    }
   ],
   "source": [
    "# dictionary with duplicate values and keys\n",
    "# keys (not applicable)\n",
    "person = {\n",
    "    \"name\": \"virat\",\n",
    "    \"international_team\": \"india\",\n",
    "    \"national_team\": \"delhi\",\n",
    "    \"nums\": [1, 2, 3, 4]\n",
    "}\n",
    "\n",
    "print(person.get(\"nums\")[2])"
   ]
  },
  {
   "cell_type": "code",
   "execution_count": 8,
   "id": "4afb988f",
   "metadata": {},
   "outputs": [
    {
     "name": "stdout",
     "output_type": "stream",
     "text": [
      "IUH\n"
     ]
    }
   ],
   "source": [
    "name = 'PIYUSH'\n",
    "print(name[1::2])"
   ]
  },
  {
   "cell_type": "code",
   "execution_count": 16,
   "id": "bf96e6d3",
   "metadata": {},
   "outputs": [
    {
     "name": "stdout",
     "output_type": "stream",
     "text": [
      "[0, 1, 2, 3, 4]\n",
      "[2, 3, 4, 5]\n",
      "[0, 2, 4, 6, 8, 10, 12, 14, 16, 18, 20, 22, 24, 26, 28]\n",
      "[-8, -7, -6, -5, -4, -3]\n",
      "[]\n",
      "[-2, -3, -4, -5, -6, -7]\n"
     ]
    }
   ],
   "source": [
    "# loops\n",
    "# range -> by default it will take ending value(starting value = 0)\n",
    "# print(range(5), type(range(5)))\n",
    "\n",
    "print(list(range(5)))\n",
    "print(list(range(2, 6)))\n",
    "print(list(range(0, 30, 2)))\n",
    "print(list(range(-8, -2)))\n",
    "print(list(range(-8, -2, -1)))\n",
    "print(list(range(-2, -8, -1)))"
   ]
  },
  {
   "cell_type": "code",
   "execution_count": 22,
   "id": "ca7a0346",
   "metadata": {},
   "outputs": [
    {
     "name": "stdout",
     "output_type": "stream",
     "text": [
      "1 2 3 4 5 6 7 8 9 10 "
     ]
    }
   ],
   "source": [
    "# for loop -> know the number of execution\n",
    "# 1 to 10\n",
    "for num in range(1, 11):\n",
    "    print(num, end=\" \")"
   ]
  },
  {
   "cell_type": "code",
   "execution_count": 24,
   "id": "0fc91e77",
   "metadata": {},
   "outputs": [
    {
     "name": "stdout",
     "output_type": "stream",
     "text": [
      "ramramram\n"
     ]
    }
   ],
   "source": [
    "print('ram' * 3)"
   ]
  },
  {
   "cell_type": "code",
   "execution_count": 33,
   "id": "5bbfed78",
   "metadata": {},
   "outputs": [
    {
     "name": "stdout",
     "output_type": "stream",
     "text": [
      "S u r y a "
     ]
    }
   ],
   "source": [
    "# string\n",
    "name = 'Surya'\n",
    "for letter in name:\n",
    "    print(letter, end=' ')"
   ]
  },
  {
   "cell_type": "code",
   "execution_count": 57,
   "id": "ef73cc18",
   "metadata": {},
   "outputs": [
    {
     "name": "stdout",
     "output_type": "stream",
     "text": [
      "name :  virat\n",
      "team :  india\n",
      "national_team :  delhi\n"
     ]
    }
   ],
   "source": [
    "# # list\n",
    "# for num in [1, 2, 3]:\n",
    "#     print(num)\n",
    "    \n",
    "# # tuple\n",
    "# for num in (1, 2, 3, 4):\n",
    "#     print(num)\n",
    "\n",
    "\n",
    "# set\n",
    "# chars = {'A', 'B', 'C', 'D', 'E', 'F', 'G', 'H', 'I', 'J', 'K', 'L', 'M', 'N', 'O', 'P', 'Q', 'R', 'S','T','U','V','W','X','Y','Z'}\n",
    "# for num in chars:\n",
    "#     print(num)\n",
    "# print(chars)\n",
    "\n",
    "\n",
    "# dictionary\n",
    "person = {\n",
    "    \"name\": \"virat\",\n",
    "    \"team\": \"india\",\n",
    "    \"national_team\": \"delhi\",\n",
    "}\n",
    "# for key in person:\n",
    "#     print(key, person.get(key))\n",
    "\n",
    "# # keys\n",
    "# for key in person.keys():\n",
    "#     print(key, person.get(key))\n",
    "    \n",
    "# print(person.keys())\n",
    "\n",
    "# values\n",
    "# print(person.values())\n",
    "# for value in person.values():\n",
    "#     print(value)\n",
    "\n",
    "\n",
    "# items\n",
    "# print(person.items())\n",
    "for key, value in person.items(): # unpacking\n",
    "    print(f'{key} :  {value}')"
   ]
  },
  {
   "cell_type": "code",
   "execution_count": 63,
   "id": "24bab147",
   "metadata": {},
   "outputs": [
    {
     "name": "stdout",
     "output_type": "stream",
     "text": [
      "1 2 3\n"
     ]
    }
   ],
   "source": [
    "# unpacking\n",
    "a, b, c = [1, 2, 3]\n",
    "print(a, b, c)"
   ]
  },
  {
   "cell_type": "code",
   "execution_count": 94,
   "id": "3b992c11",
   "metadata": {},
   "outputs": [
    {
     "name": "stdout",
     "output_type": "stream",
     "text": [
      "1 vasanth\n",
      "1\n",
      "2 vasanth\n",
      "2\n",
      "3 vasanth\n",
      "3\n",
      "4 vasanth\n",
      "4\n",
      "5 vasanth\n",
      "6 vasanth\n",
      "6\n",
      "7 vasanth\n",
      "7\n",
      "8 vasanth\n",
      "8\n",
      "9 vasanth\n",
      "9\n",
      "10 vasanth\n",
      "10\n",
      "1\n",
      "2\n",
      "3\n",
      "4\n"
     ]
    }
   ],
   "source": [
    "# 1 to 10 except 5 -> 1, 2, 3, 4, 6, 7, 8, 9, 10\n",
    "# # continue\n",
    "# for num in range(1, 11):\n",
    "#     print(num, 'vasanth')\n",
    "#     if num == 5:\n",
    "#         continue\n",
    "#     print(num)\n",
    "\n",
    "# break\n",
    "# 1 to 10 stop 5 -> 1, 2, 3, 4,\n",
    "for num in range(1, 11):\n",
    "    if num == 5:\n",
    "        break\n",
    "    print(num)"
   ]
  },
  {
   "cell_type": "code",
   "execution_count": 74,
   "id": "3bd37e5d",
   "metadata": {},
   "outputs": [
    {
     "name": "stdout",
     "output_type": "stream",
     "text": [
      "11  12  13  14  \n",
      "21  22  23  24  \n",
      "31  32  33  34  \n"
     ]
    }
   ],
   "source": [
    "# nested loop\n",
    "rows = 4\n",
    "columns = 5\n",
    "for row in range(1, rows):\n",
    "    for col in range(1, columns):\n",
    "        print(f'{row}{col}', end=\"  \")\n",
    "    print()"
   ]
  },
  {
   "cell_type": "code",
   "execution_count": 92,
   "id": "7c4a3a22",
   "metadata": {},
   "outputs": [
    {
     "name": "stdout",
     "output_type": "stream",
     "text": [
      "     *\n",
      "    **\n",
      "   ***\n",
      "  ****\n",
      " *****\n"
     ]
    }
   ],
   "source": [
    "# ***\n",
    "# ***\n",
    "# ***\n",
    "\n",
    "# num = 5\n",
    "# count = 0\n",
    "# for row in range(num):\n",
    "#     for col in range(num):\n",
    "#         count += 1\n",
    "#         print('*', end=\"\")\n",
    "#     print()\n",
    "    \n",
    "    \n",
    "# print(count)\n",
    "\n",
    "# optimised\n",
    "# num = 5\n",
    "# for row in range(num):\n",
    "#     print(\"*\" * 5)\n",
    "\n",
    "\n",
    "# triangle\n",
    "num = 5\n",
    "for row in range(1, num+1):\n",
    "    print(\" \" * (num-row), \"*\" * row)"
   ]
  },
  {
   "cell_type": "code",
   "execution_count": 96,
   "id": "b8d4349f",
   "metadata": {},
   "outputs": [
    {
     "name": "stdout",
     "output_type": "stream",
     "text": [
      "1\n",
      "2\n",
      "3\n",
      "4\n",
      "5\n",
      "6\n",
      "7\n",
      "8\n",
      "9\n",
      "10\n"
     ]
    }
   ],
   "source": [
    "# while loop -> condition check or entry checking loop\n",
    "# 1 to 10\n",
    "\n",
    "i = 1\n",
    "while(i < 11):\n",
    "    print(i)\n",
    "    i += 1"
   ]
  },
  {
   "cell_type": "code",
   "execution_count": 100,
   "id": "a7b65312",
   "metadata": {},
   "outputs": [
    {
     "ename": "KeyboardInterrupt",
     "evalue": "Interrupted by user",
     "output_type": "error",
     "traceback": [
      "\u001b[1;31m---------------------------------------------------------------------------\u001b[0m",
      "\u001b[1;31mKeyboardInterrupt\u001b[0m                         Traceback (most recent call last)",
      "Input \u001b[1;32mIn [100]\u001b[0m, in \u001b[0;36m<cell line: 3>\u001b[1;34m()\u001b[0m\n\u001b[0;32m      1\u001b[0m \u001b[38;5;66;03m# terminal\u001b[39;00m\n\u001b[0;32m      2\u001b[0m \u001b[38;5;28;01mwhile\u001b[39;00m(\u001b[38;5;28;01mTrue\u001b[39;00m):\n\u001b[1;32m----> 3\u001b[0m     command \u001b[38;5;241m=\u001b[39m \u001b[38;5;28;43minput\u001b[39;49m\u001b[43m(\u001b[49m\u001b[38;5;124;43m'\u001b[39;49m\u001b[38;5;124;43mc:/Desktop: \u001b[39;49m\u001b[38;5;124;43m'\u001b[39;49m\u001b[43m)\u001b[49m\n\u001b[0;32m      4\u001b[0m     \u001b[38;5;28;01mif\u001b[39;00m(command \u001b[38;5;241m==\u001b[39m \u001b[38;5;124m'\u001b[39m\u001b[38;5;124madd\u001b[39m\u001b[38;5;124m'\u001b[39m):\n\u001b[0;32m      5\u001b[0m         \u001b[38;5;28mprint\u001b[39m(\u001b[38;5;124m'\u001b[39m\u001b[38;5;124madding\u001b[39m\u001b[38;5;124m'\u001b[39m)\n",
      "File \u001b[1;32m~\\anaconda3\\lib\\site-packages\\ipykernel\\kernelbase.py:1075\u001b[0m, in \u001b[0;36mKernel.raw_input\u001b[1;34m(self, prompt)\u001b[0m\n\u001b[0;32m   1071\u001b[0m \u001b[38;5;28;01mif\u001b[39;00m \u001b[38;5;129;01mnot\u001b[39;00m \u001b[38;5;28mself\u001b[39m\u001b[38;5;241m.\u001b[39m_allow_stdin:\n\u001b[0;32m   1072\u001b[0m     \u001b[38;5;28;01mraise\u001b[39;00m StdinNotImplementedError(\n\u001b[0;32m   1073\u001b[0m         \u001b[38;5;124m\"\u001b[39m\u001b[38;5;124mraw_input was called, but this frontend does not support input requests.\u001b[39m\u001b[38;5;124m\"\u001b[39m\n\u001b[0;32m   1074\u001b[0m     )\n\u001b[1;32m-> 1075\u001b[0m \u001b[38;5;28;01mreturn\u001b[39;00m \u001b[38;5;28;43mself\u001b[39;49m\u001b[38;5;241;43m.\u001b[39;49m\u001b[43m_input_request\u001b[49m\u001b[43m(\u001b[49m\n\u001b[0;32m   1076\u001b[0m \u001b[43m    \u001b[49m\u001b[38;5;28;43mstr\u001b[39;49m\u001b[43m(\u001b[49m\u001b[43mprompt\u001b[49m\u001b[43m)\u001b[49m\u001b[43m,\u001b[49m\n\u001b[0;32m   1077\u001b[0m \u001b[43m    \u001b[49m\u001b[38;5;28;43mself\u001b[39;49m\u001b[38;5;241;43m.\u001b[39;49m\u001b[43m_parent_ident\u001b[49m\u001b[43m[\u001b[49m\u001b[38;5;124;43m\"\u001b[39;49m\u001b[38;5;124;43mshell\u001b[39;49m\u001b[38;5;124;43m\"\u001b[39;49m\u001b[43m]\u001b[49m\u001b[43m,\u001b[49m\n\u001b[0;32m   1078\u001b[0m \u001b[43m    \u001b[49m\u001b[38;5;28;43mself\u001b[39;49m\u001b[38;5;241;43m.\u001b[39;49m\u001b[43mget_parent\u001b[49m\u001b[43m(\u001b[49m\u001b[38;5;124;43m\"\u001b[39;49m\u001b[38;5;124;43mshell\u001b[39;49m\u001b[38;5;124;43m\"\u001b[39;49m\u001b[43m)\u001b[49m\u001b[43m,\u001b[49m\n\u001b[0;32m   1079\u001b[0m \u001b[43m    \u001b[49m\u001b[43mpassword\u001b[49m\u001b[38;5;241;43m=\u001b[39;49m\u001b[38;5;28;43;01mFalse\u001b[39;49;00m\u001b[43m,\u001b[49m\n\u001b[0;32m   1080\u001b[0m \u001b[43m\u001b[49m\u001b[43m)\u001b[49m\n",
      "File \u001b[1;32m~\\anaconda3\\lib\\site-packages\\ipykernel\\kernelbase.py:1120\u001b[0m, in \u001b[0;36mKernel._input_request\u001b[1;34m(self, prompt, ident, parent, password)\u001b[0m\n\u001b[0;32m   1117\u001b[0m             \u001b[38;5;28;01mbreak\u001b[39;00m\n\u001b[0;32m   1118\u001b[0m \u001b[38;5;28;01mexcept\u001b[39;00m \u001b[38;5;167;01mKeyboardInterrupt\u001b[39;00m:\n\u001b[0;32m   1119\u001b[0m     \u001b[38;5;66;03m# re-raise KeyboardInterrupt, to truncate traceback\u001b[39;00m\n\u001b[1;32m-> 1120\u001b[0m     \u001b[38;5;28;01mraise\u001b[39;00m \u001b[38;5;167;01mKeyboardInterrupt\u001b[39;00m(\u001b[38;5;124m\"\u001b[39m\u001b[38;5;124mInterrupted by user\u001b[39m\u001b[38;5;124m\"\u001b[39m) \u001b[38;5;28;01mfrom\u001b[39;00m \u001b[38;5;28mNone\u001b[39m\n\u001b[0;32m   1121\u001b[0m \u001b[38;5;28;01mexcept\u001b[39;00m \u001b[38;5;167;01mException\u001b[39;00m:\n\u001b[0;32m   1122\u001b[0m     \u001b[38;5;28mself\u001b[39m\u001b[38;5;241m.\u001b[39mlog\u001b[38;5;241m.\u001b[39mwarning(\u001b[38;5;124m\"\u001b[39m\u001b[38;5;124mInvalid Message:\u001b[39m\u001b[38;5;124m\"\u001b[39m, exc_info\u001b[38;5;241m=\u001b[39m\u001b[38;5;28;01mTrue\u001b[39;00m)\n",
      "\u001b[1;31mKeyboardInterrupt\u001b[0m: Interrupted by user"
     ]
    }
   ],
   "source": [
    "# terminal\n",
    "while(True):\n",
    "    command = input('c:/Desktop: ')\n",
    "    if(command == 'add'):\n",
    "        print('adding')\n",
    "    elif(command == 'sub'):\n",
    "        print('subtracting')\n",
    "    elif(command == 'mul'):\n",
    "        print('multiplying')\n",
    "    elif(command == 'quit'):\n",
    "        print('quitting...')\n",
    "        print('thank you')\n",
    "        break\n",
    "    else:\n",
    "        print(f'command: {command} not found')"
   ]
  },
  {
   "cell_type": "code",
   "execution_count": 107,
   "id": "f1948e08",
   "metadata": {},
   "outputs": [
    {
     "name": "stdout",
     "output_type": "stream",
     "text": [
      "Welcome!!! to intellipaat\n",
      "Welcome!!! to intellipaat\n",
      "Welcome!!! to intellipaat\n"
     ]
    }
   ],
   "source": [
    "# functions -> verbs\n",
    "\n",
    "# def get_sum(num1, num2):\n",
    "#     print(num1 + num2)\n",
    "    \n",
    "# get_sum(4, 5)\n",
    "\n",
    "\n",
    "\n",
    "def show_msg():\n",
    "    print('Welcome!!! to intellipaat')\n",
    "    \n",
    "show_msg()\n",
    "show_msg()\n",
    "show_msg()"
   ]
  },
  {
   "cell_type": "code",
   "execution_count": 127,
   "id": "3f075bd0",
   "metadata": {},
   "outputs": [
    {
     "name": "stdout",
     "output_type": "stream",
     "text": [
      "120\n"
     ]
    }
   ],
   "source": [
    "# factorial -> 5! = 5*4*3*2*1 = 120\n",
    "\n",
    "def get_factorial(num):\n",
    "    fact = 1\n",
    "    for i in range(1, num+1):\n",
    "        fact = fact * i\n",
    "    #     print(fact, i)\n",
    "#     print(fact)\n",
    "    return fact\n",
    "\n",
    "\n",
    "# get_factorial(5)\n",
    "# get_factorial(7)\n",
    "# get_factorial(21)\n",
    "\n",
    "fact_5 = get_factorial(5)\n",
    "print(fact_5)"
   ]
  },
  {
   "cell_type": "code",
   "execution_count": 142,
   "id": "32c5170c",
   "metadata": {},
   "outputs": [
    {
     "name": "stdout",
     "output_type": "stream",
     "text": [
      "9\n",
      "4\n",
      "0\n"
     ]
    }
   ],
   "source": [
    "# default values\n",
    "def get_sum(n1 = 0, n2 = 0):\n",
    "    return n1 + n2\n",
    "\n",
    "print(get_sum(4, 5))\n",
    "print(get_sum(4))\n",
    "print(get_sum())\n",
    "\n",
    "# print(get_sum(4, 3, 5))\n",
    "\n",
    "\n",
    "# def get_3sum(n1, n2, n3):\n",
    "#     return n1 + n2 + n3"
   ]
  },
  {
   "cell_type": "code",
   "execution_count": 152,
   "id": "5457c9ff",
   "metadata": {},
   "outputs": [
    {
     "name": "stdout",
     "output_type": "stream",
     "text": [
      "addding\n",
      "addding\n",
      "4\n",
      "addding\n",
      "1\n",
      "0\n",
      "addding\n",
      "addding\n",
      "addding\n",
      "addding\n",
      "addding\n",
      "addding\n",
      "33\n"
     ]
    }
   ],
   "source": [
    "# args -> arguments\n",
    "def get_sum(*nums): # *args(will be passed as tuple)\n",
    "    total = 0\n",
    "    for num in nums:\n",
    "        total += num\n",
    "    return total\n",
    "    \n",
    "print(get_sum(1, 3))\n",
    "print(get_sum(1))\n",
    "print(get_sum())\n",
    "print(get_sum(1, 3, 4))"
   ]
  },
  {
   "cell_type": "code",
   "execution_count": 162,
   "id": "177c3ebc",
   "metadata": {},
   "outputs": [
    {
     "ename": "TypeError",
     "evalue": "get_greeting_msg() got an unexpected keyword argument 'module'",
     "output_type": "error",
     "traceback": [
      "\u001b[1;31m---------------------------------------------------------------------------\u001b[0m",
      "\u001b[1;31mTypeError\u001b[0m                                 Traceback (most recent call last)",
      "Input \u001b[1;32mIn [162]\u001b[0m, in \u001b[0;36m<cell line: 17>\u001b[1;34m()\u001b[0m\n\u001b[0;32m     11\u001b[0m     \u001b[38;5;28mprint\u001b[39m(\u001b[38;5;124mf\u001b[39m\u001b[38;5;124m'\u001b[39m\u001b[38;5;124mHi!!! \u001b[39m\u001b[38;5;132;01m{\u001b[39;00mname\u001b[38;5;132;01m}\u001b[39;00m\u001b[38;5;124m, Welcome to Intellipaat. Your Id is \u001b[39m\u001b[38;5;132;01m{\u001b[39;00mroll_no\u001b[38;5;132;01m}\u001b[39;00m\u001b[38;5;124m'\u001b[39m)\n\u001b[0;32m     13\u001b[0m \u001b[38;5;66;03m# get_greeting_msg(roll_no = 10)\u001b[39;00m\n\u001b[0;32m     14\u001b[0m \u001b[38;5;66;03m# get_greeting_msg()\u001b[39;00m\n\u001b[0;32m     15\u001b[0m \u001b[38;5;66;03m# get_greeting_msg(roll_no = 10, name = 'vasi')\u001b[39;00m\n\u001b[1;32m---> 17\u001b[0m \u001b[43mget_greeting_msg\u001b[49m\u001b[43m(\u001b[49m\u001b[43mroll_no\u001b[49m\u001b[43m \u001b[49m\u001b[38;5;241;43m=\u001b[39;49m\u001b[43m \u001b[49m\u001b[38;5;241;43m10\u001b[39;49m\u001b[43m,\u001b[49m\u001b[43m \u001b[49m\u001b[43mname\u001b[49m\u001b[43m \u001b[49m\u001b[38;5;241;43m=\u001b[39;49m\u001b[43m \u001b[49m\u001b[38;5;124;43m'\u001b[39;49m\u001b[38;5;124;43mvasi\u001b[39;49m\u001b[38;5;124;43m'\u001b[39;49m\u001b[43m,\u001b[49m\u001b[43m \u001b[49m\u001b[43mmodule\u001b[49m\u001b[38;5;241;43m=\u001b[39;49m\u001b[38;5;124;43m'\u001b[39;49m\u001b[38;5;124;43mPython\u001b[39;49m\u001b[38;5;124;43m'\u001b[39;49m\u001b[43m)\u001b[49m\n",
      "\u001b[1;31mTypeError\u001b[0m: get_greeting_msg() got an unexpected keyword argument 'module'"
     ]
    }
   ],
   "source": [
    "# def get_greeting_msg(name, roll_no):\n",
    "#     print(f'Hi!!! {name}, Welcome to Intellipaat. Your Id is {roll_no}')\n",
    "    \n",
    "# # get_greeting_msg('vasi', 10)\n",
    "# get_greeting_msg(roll_no = 10, name = 'vasi')\n",
    "\n",
    "\n",
    "\n",
    "# **kwargs (key word arguments)\n",
    "def get_greeting_msg(name = 'User', roll_no = 0):\n",
    "    print(f'Hi!!! {name}, Welcome to Intellipaat. Your Id is {roll_no}')\n",
    "    \n",
    "# get_greeting_msg(roll_no = 10)\n",
    "# get_greeting_msg()\n",
    "# get_greeting_msg(roll_no = 10, name = 'vasi')\n",
    "\n",
    "get_greeting_msg(roll_no=10, name='vasi', module='Python')"
   ]
  },
  {
   "cell_type": "code",
   "execution_count": 164,
   "id": "947d1075",
   "metadata": {},
   "outputs": [
    {
     "name": "stdout",
     "output_type": "stream",
     "text": [
      "Hi!!! vasi, Welcome to Intellipaat. Your Id is 10\n"
     ]
    }
   ],
   "source": [
    "# **kwargs (key word arguments)\n",
    "def get_greeting_msg(**values):\n",
    "    name = values.get('name')\n",
    "    roll_no = values.get('roll_no')\n",
    "    print(f'Hi!!! {name}, Welcome to Intellipaat. Your Id is {roll_no}')\n",
    "    \n",
    "get_greeting_msg(roll_no=10, name='vasi', module='Python')"
   ]
  },
  {
   "cell_type": "code",
   "execution_count": 166,
   "id": "ab3f0f8f",
   "metadata": {},
   "outputs": [
    {
     "ename": "SyntaxError",
     "evalue": "non-default argument follows default argument (465091998.py, line 1)",
     "output_type": "error",
     "traceback": [
      "\u001b[1;36m  Input \u001b[1;32mIn [166]\u001b[1;36m\u001b[0m\n\u001b[1;33m    def get_greeting_msg(name='user',roll_no):\u001b[0m\n\u001b[1;37m                                            ^\u001b[0m\n\u001b[1;31mSyntaxError\u001b[0m\u001b[1;31m:\u001b[0m non-default argument follows default argument\n"
     ]
    }
   ],
   "source": [
    "# def get_greeting_msg(name='user',roll_no):\n",
    "#     print(f'hi {name}, welcome to intellipaat. your rollno. is {roll_no}')\n",
    "# get_greeting_msg(roll_no=10)\n"
   ]
  },
  {
   "cell_type": "code",
   "execution_count": 182,
   "id": "4a7d4444",
   "metadata": {},
   "outputs": [
    {
     "name": "stdout",
     "output_type": "stream",
     "text": [
      "1.7320508075688772\n",
      "120\n",
      "4\n",
      "-3\n",
      "3\n",
      "-4\n",
      "15.625\n",
      "1.7321\n"
     ]
    }
   ],
   "source": [
    "# modules -> in built functions\n",
    "import math\n",
    "\n",
    "print(math.sqrt(3))\n",
    "print(math.factorial(5))\n",
    "print(math.ceil(3.567))\n",
    "print(math.ceil(-3.567))\n",
    "print(math.floor(3.567))\n",
    "print(math.floor(-3.567))\n",
    "print(math.pow(2.5, 3))\n",
    "\n",
    "\n",
    "print(round(math.sqrt(3), 4))"
   ]
  },
  {
   "cell_type": "code",
   "execution_count": 188,
   "id": "5a782fc1",
   "metadata": {},
   "outputs": [
    {
     "name": "stdout",
     "output_type": "stream",
     "text": [
      "even\n",
      "odd\n"
     ]
    }
   ],
   "source": [
    "# def get_sum(n1, n2):\n",
    "#     return n1 + n2\n",
    "\n",
    "# lambda\n",
    "# get_sum = lambda n1, n2: n1 + n2\n",
    "\n",
    "# print(get_sum(4, 5))\n",
    "\n",
    "\n",
    "# odd or even\n",
    "is_even = lambda num: `\n",
    "\n",
    "def is_even(num):\n",
    "    if(num % 2 == 0):\n",
    "        print('even')\n",
    "    else:\n",
    "        print('odd')\n",
    "\n",
    "is_even(2)\n",
    "is_even(3)"
   ]
  },
  {
   "cell_type": "code",
   "execution_count": 191,
   "id": "b064cf5f",
   "metadata": {},
   "outputs": [
    {
     "name": "stdout",
     "output_type": "stream",
     "text": [
      "[1, 2, 3, 4, 5, 6, 7, 8, 9, 10, 11, 12, 13, 14, 15, 16, 17, 18, 19, 20, 21, 22, 23, 24, 25, 26, 27, 28, 29, 30, 31, 32, 33, 34, 35, 36, 37, 38, 39, 40, 41, 42, 43, 44, 45, 46, 47, 48, 49, 50, 51, 52, 53, 54, 55, 56, 57, 58, 59, 60, 61, 62, 63, 64, 65, 66, 67, 68, 69, 70, 71, 72, 73, 74, 75, 76, 77, 78, 79, 80, 81, 82, 83, 84, 85, 86, 87, 88, 89, 90, 91, 92, 93, 94, 95, 96, 97, 98, 99, 100]\n"
     ]
    }
   ],
   "source": [
    "nums = [i for i in range(1, 101)]\n",
    "print(nums)"
   ]
  },
  {
   "cell_type": "code",
   "execution_count": 2,
   "id": "133478a3",
   "metadata": {},
   "outputs": [
    {
     "name": "stdout",
     "output_type": "stream",
     "text": [
      "25\n"
     ]
    }
   ],
   "source": [
    "import arithmetic\n",
    "\n",
    "total = arithmetic.get_sum(10, 15)\n",
    "print(total)"
   ]
  },
  {
   "cell_type": "code",
   "execution_count": null,
   "id": "d20b349a",
   "metadata": {},
   "outputs": [],
   "source": []
  }
 ],
 "metadata": {
  "kernelspec": {
   "display_name": "Python 3 (ipykernel)",
   "language": "python",
   "name": "python3"
  },
  "language_info": {
   "codemirror_mode": {
    "name": "ipython",
    "version": 3
   },
   "file_extension": ".py",
   "mimetype": "text/x-python",
   "name": "python",
   "nbconvert_exporter": "python",
   "pygments_lexer": "ipython3",
   "version": "3.9.12"
  }
 },
 "nbformat": 4,
 "nbformat_minor": 5
}
